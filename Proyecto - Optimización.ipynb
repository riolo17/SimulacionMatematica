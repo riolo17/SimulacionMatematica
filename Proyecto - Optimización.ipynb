{
 "cells": [
  {
   "cell_type": "markdown",
   "metadata": {},
   "source": [
    "<img style=\"float: right; margin: 0px 0px 15px 15px;\" src=\"https://upload.wikimedia.org/wikipedia/commons/b/b6/Proyecto_en_construccion.jpg\" width=\"300px\" height=\"100px\" />\n",
    "\n",
    "\n",
    "# Guía para presentación de proyectos.\n",
    "> Se especifican los componentes básicos que deberá tener cada proyecto. El proyecto debe ser un problema que se pueda modelar con las herramientas vistas en el módulo. En el caso del primer módulo, optimización."
   ]
  },
  {
   "cell_type": "markdown",
   "metadata": {},
   "source": [
    "## 1. PROYECTO MÓDULO 1\n",
    "\n",
    " 1. Elegir integrantes para proyecto (3). \n",
    " 2. Deben elegir un tema para proyecto que se pueda resolver como un problema de optimización (de preferencia relacionado con su carrera). \n",
    "\n",
    "\n",
    "## 1.1 Ideas de proyectos:\n",
    "1. Programación lineal: (con base en el libro Model building in mathematical programming de H. Paul Williams)\n",
    " + Planeación de mano de obra.\n",
    " + Planeación de producción.\n",
    " + Arbitraje usando programación lineal (Financiera) http://www.meiss.com/columbia/en/teaching/1999/fall/B6015/download/lecture05/lec5.pdf\n",
    " + Planta de tratamiento de aguas residuales de bajo costo (Ingeniería civil) Numerical Methods for Engineers pg 421\n",
    " + Problema de descubrir datos ocultos\n",
    " + Optimizar diseño de divisor de voltaje\n",
    "\n",
    "\n",
    "2. Ajuste de curvas (con base en los datos en https://data.worldbank.org/indicator)\n",
    " + Histórico de temperaturas hasta 2016: ajuste de curvas y predicción de temperaturas de 2017 (comparación con datos reales).\n",
    " + Por ejemplo, CO2 emissions (kt), Forest area (sq. km), están relacionados con cambio climático. En las emisiones de CO2 parece que en los últimos años la curva tiene tendencia de concavidad hacia abajo, lo que indicaría que las políticas que se estén ejecutando si están teniendo un impacto.\n",
    " + Otro ejemplo puede ser Access to electricity (% of population). Se ve que está en constante crecimiento. Se podría estimar cuándo se llegará al 95%."
   ]
  },
  {
   "cell_type": "markdown",
   "metadata": {},
   "source": [
    "___\n",
    "## 2. Entregable.\n",
    "Los trabajos deben tener los siguientes componentes básicos.\n",
    "\n",
    "### 2.1 Título del trabajo.\n",
    "> Debe describir el trabajo.\n",
    "\n",
    "### 2.2 Objetivos.\n",
    "> - Se refieren a los propósitos por los cuales se hace el trabajo.\n",
    "> - Deben ser concretos, evaluables y verificables.\n",
    "> - Deben ser escritos en infinitivo.\n",
    "> #### 1.1 Objetivo general.\n",
    ">  - Fin último de estudio. Se formula atendiendo el propósito global del trabajo. No presenta detalles.\n",
    ">  - Se orienta a la totalidad del trabajo. Tiene que ver con el título del trabajo.\n",
    "> #### 1.2 Objetivos específicos\n",
    ">  - De forma detallada describen cada una de los componentes del trabajo.\n",
    ">  - En conjunto garantizan la consecución del objetivo general.\n",
    "\n",
    "Referencia:\n",
    "- https://es.slideshare.net/rosbur/metodologia-objetivos-generales-y-especficos\n",
    "\n",
    "### 2.3 Modelo que representa el problema.\n",
    "> - Se debe incluir la función a optimizar y las restricciones (en caso de que existan).\n",
    "> - Deducción del modelo. Explicación detallada de las ecuaciones de acuerdo al problema que se quiera resolver o modelo que se quiera representar.\n",
    "> - ¿Qué situación representa el modelo? ¿Cuáles son las limitaciones fundamentales?\n",
    "> - Significado y valor de los parámetros (constantes que aparezcan en el modelo).\n",
    "\n",
    "### 2.4 Solución del problema de optimización.\n",
    "> - Se debe resolver el problema de optimización.\n",
    "> - ¿Condujo el algoritmo de optimización a una solución factible?\n",
    "\n",
    "### 2.5 Visualización de la solución del problema.\n",
    "> Se deben mostrar gráficas y/o tablas que ilustren de forma adecuada los resultados. No olviden etiquetar los ejes y si se tienen varias curvas en una sola gráfica también etiquetarlas (ojo: que las curvas se puedan diferenciar con colores y estilos de línea).\n",
    "\n",
    "### 2.6 Conclusiones.\n",
    "> Mucho cuidado, las conclusiones no son cualquier cosa. Se debe concluir respecto a los objetivos planteados de acuerdo a los resultados obtenidos.\n",
    "\n",
    "### 2.7 Referencias.\n",
    "> Citar (en formato APA) la bibliografía utilizada."
   ]
  },
  {
   "cell_type": "code",
   "execution_count": 14,
   "metadata": {},
   "outputs": [],
   "source": [
    "import numpy as np\n",
    "import pandas as pd\n",
    "import sympy as sp\n",
    "import matplotlib.pyplot as plt\n",
    "import scipy.optimize as opt"
   ]
  },
  {
   "cell_type": "code",
   "execution_count": 15,
   "metadata": {
    "scrolled": false
   },
   "outputs": [
    {
     "data": {
      "text/html": [
       "<div>\n",
       "<style scoped>\n",
       "    .dataframe tbody tr th:only-of-type {\n",
       "        vertical-align: middle;\n",
       "    }\n",
       "\n",
       "    .dataframe tbody tr th {\n",
       "        vertical-align: top;\n",
       "    }\n",
       "\n",
       "    .dataframe thead th {\n",
       "        text-align: right;\n",
       "    }\n",
       "</style>\n",
       "<table border=\"1\" class=\"dataframe\">\n",
       "  <thead>\n",
       "    <tr style=\"text-align: right;\">\n",
       "      <th></th>\n",
       "      <th>FIBRA</th>\n",
       "      <th>Rendimiento</th>\n",
       "    </tr>\n",
       "  </thead>\n",
       "  <tbody>\n",
       "    <tr>\n",
       "      <th>0</th>\n",
       "      <td>THE WESLEY II</td>\n",
       "      <td>0.1700</td>\n",
       "    </tr>\n",
       "    <tr>\n",
       "      <th>1</th>\n",
       "      <td>CYPRESS BUSINESS PARK</td>\n",
       "      <td>0.1638</td>\n",
       "    </tr>\n",
       "    <tr>\n",
       "      <th>2</th>\n",
       "      <td>STETRU PARK</td>\n",
       "      <td>0.1700</td>\n",
       "    </tr>\n",
       "    <tr>\n",
       "      <th>3</th>\n",
       "      <td>PARQUE FERRAN V</td>\n",
       "      <td>0.1772</td>\n",
       "    </tr>\n",
       "    <tr>\n",
       "      <th>4</th>\n",
       "      <td>EDERRA STREET MALL &amp; FERRAN</td>\n",
       "      <td>0.1900</td>\n",
       "    </tr>\n",
       "    <tr>\n",
       "      <th>5</th>\n",
       "      <td>B CENTRAL 270</td>\n",
       "      <td>0.1676</td>\n",
       "    </tr>\n",
       "  </tbody>\n",
       "</table>\n",
       "</div>"
      ],
      "text/plain": [
       "                         FIBRA  Rendimiento\n",
       "0                THE WESLEY II       0.1700\n",
       "1        CYPRESS BUSINESS PARK       0.1638\n",
       "2                  STETRU PARK       0.1700\n",
       "3              PARQUE FERRAN V       0.1772\n",
       "4  EDERRA STREET MALL & FERRAN       0.1900\n",
       "5                B CENTRAL 270       0.1676"
      ]
     },
     "execution_count": 15,
     "metadata": {},
     "output_type": "execute_result"
    }
   ],
   "source": [
    "data= pd.read_excel(\"ExcelProyecto_Fibras.xlsx\")\n",
    "data"
   ]
  },
  {
   "cell_type": "markdown",
   "metadata": {},
   "source": [
    "## Restricciones"
   ]
  },
  {
   "cell_type": "markdown",
   "metadata": {},
   "source": [
    "\n",
    "$$x_1 + x_2 + x_3 + x_4 + x_5 + x_6 \\leq 5850500$$\n",
    "$$x_2 + x_3 + x_4 \\leq 2340200$$\n",
    "$$x_1 \\leq 558750$$\n",
    "$$x_1 \\geq 14900$$\n",
    "$$x_2 \\leq 1256300$$\n",
    "$$x_2 \\geq 14780$$\n",
    "$$x_3 \\leq 1112000$$\n",
    "$$x_3 \\geq 13900$$\n",
    "$$x_4 \\leq 1272800$$\n",
    "$$x_4 \\geq 17600$$\n",
    "$$x_5 \\leq 1426830$$\n",
    "$$x_5 \\geq 14340$$\n",
    "$$x_6 \\leq 1226500$$\n",
    "$$x_6 \\geq 11150$$\n",
    "$$x_5 \\leq 1170100$$\n",
    "$$x_6 \\leq 1170100$$"
   ]
  },
  {
   "cell_type": "code",
   "execution_count": 60,
   "metadata": {},
   "outputs": [
    {
     "data": {
      "text/plain": [
       "array([[-1.17  , -1.1638, -1.17  , -1.1772, -1.19  , -1.1676]])"
      ]
     },
     "execution_count": 60,
     "metadata": {},
     "output_type": "execute_result"
    }
   ],
   "source": [
    "bank=5850500\n",
    "rend=data[\"Rendimiento\"]\n",
    "rend\n",
    "rendv=(np.asarray(rend)+np.ones([1,6]))*-1 #Multiplicación por -1 porq Maximizamos con una herramienta de Minimizar\n",
    "rendv\n"
   ]
  },
  {
   "cell_type": "code",
   "execution_count": 64,
   "metadata": {
    "scrolled": true
   },
   "outputs": [
    {
     "data": {
      "text/plain": [
       "           con: array([], dtype=float64)\n",
       " crossover_nit: 0\n",
       "         eqlin:  marginals: array([], dtype=float64)\n",
       "  residual: array([], dtype=float64)\n",
       "           fun: -6465072.12\n",
       "       ineqlin:  marginals: array([-0.    , -1.17  , -1.17  , -0.    , -0.    , -0.    , -0.    ,\n",
       "       -0.    , -0.0072, -0.    , -1.19  , -0.    , -0.    , -0.    ,\n",
       "       -0.    , -1.1676])\n",
       "  residual: array([ 354620.,       0.,       0.,  573650., 1256300.,   14780.,\n",
       "         44600., 1081300.,       0., 1290400.,       0., 1441170.,\n",
       "         56400., 1181250.,  611350.,       0.])\n",
       "         lower:  marginals: array([0.    , 0.0062, 0.    , 0.    , 0.    , 0.    ])\n",
       "  residual: array([ 558750.,       0., 1067400., 1272800., 1426830., 1170100.])\n",
       "       message: 'Optimization terminated successfully. (HiGHS Status 7: Optimal)'\n",
       "           nit: 1\n",
       "         slack: array([ 354620.,       0.,       0.,  573650., 1256300.,   14780.,\n",
       "         44600., 1081300.,       0., 1290400.,       0., 1441170.,\n",
       "         56400., 1181250.,  611350.,       0.])\n",
       "        status: 0\n",
       "       success: True\n",
       "         upper:  marginals: array([0., 0., 0., 0., 0., 0.])\n",
       "  residual: array([inf, inf, inf, inf, inf, inf])\n",
       "             x: array([ 558750.,       0., 1067400., 1272800., 1426830., 1170100.])"
      ]
     },
     "execution_count": 64,
     "metadata": {},
     "output_type": "execute_result"
    }
   ],
   "source": [
    "c=rendv\n",
    "\n",
    "Aub=np.array([ [1.0, 1.0, 1.0, 1.0, 1.0, 1.0],  #Restricción 1, menor que 5850500\n",
    "               [0.0, 1.0, 1.0, 1.0, 0.0, 0.0],  #Restricción 2, menor al 40% del Bank\n",
    "               [1.0, 0.0, 0.0, 0.0, 0.0, 0.0],  #Restricción 3, x_1 menor que 558750\n",
    "               [-1.0, 0.0, 0.0, 0.0, 0.0, 0.0], #Restricción 4, x_1 mayor que 14900\n",
    "               [0.0, 1.0, 0.0, 0.0, 0.0, 0.0],  #Restricción 5, x_2 menor que 1256300\n",
    "               [0.0, -1.0, 0.0, 0.0, 0.0, 0.0], #Restricción 6, x_2 mayor que 14780\n",
    "               [0.0, 0.0, 1.0, 0.0, 0.0, 0.0],  #Restricción 7, x_3 menor que 1112000\n",
    "               [0.0, 0.0, -1.0, 0.0, 0.0, 0.0], #Restricción 8, x_3 mayor que 13900\n",
    "               [0.0, 0.0, 0.0, 1.0, 0.0, 0.0],  #Restricción 9, x_4 menor que 1272800\n",
    "               [0.0, 0.0, 0.0, -1.0, 0.0, 0.0], #Restricción 10, x_4 mayor que 17600\n",
    "               [0.0, 0.0, 0.0, 0.0, 1.0, 0.0],  #Restricción 11, x_5 menor que 1426830\n",
    "               [0.0, 0.0, 0.0, 0.0, -1.0, 0.0], #Restricción 12, x_5 mayor que 14340\n",
    "               [0.0, 0.0, 0.0, 0.0, 0.0, 1.0],  #Restricción 13, x_6 menor que 1226500\n",
    "               [0.0, 0.0, 0.0, 0.0, 0.0, -1.0], #Restricción 14, x_6 mayor que 11150\n",
    "               [1.0, 0.0, 0.0, 0.0, 0.0, 0.0],  #Restricción 15, x_1 menor al 20% del Bank\n",
    "               [0.0, 0.0, 0.0, 0.0, 0.0, 1.0]  #Restricción 16, x_6 menor al 20% del Bank\n",
    "             ])\n",
    "\n",
    "bub=np.array([bank,\n",
    "              bank*.4,\n",
    "              558750,\n",
    "              14900,\n",
    "              1256300,\n",
    "              14780,\n",
    "              1112000,\n",
    "              13900,\n",
    "              1272800,\n",
    "              17600,\n",
    "              1426830,\n",
    "              14340,\n",
    "              1226500,\n",
    "              11150,\n",
    "              bank*.2,\n",
    "              bank*.2\n",
    "             ])\n",
    "\n",
    "resp=opt.linprog(c,Aub,bub)\n",
    "resp"
   ]
  },
  {
   "cell_type": "markdown",
   "metadata": {},
   "source": [
    "## Interpretación de Resultados\n",
    "\n",
    "Para Maximizar el rendimiento del portafolio de Fibras:\n",
    "\n",
    "- En *The Wesley II* se tienen que invertir $558,750 \\$ $\n",
    "- En *The Cypress Business Park* se tienen que invertir $ 0.00 \\$ $\n",
    "- En *Stretu Park* se tienen que invertir $  1'067,400\\$ $\n",
    "- En  *Parque Ferran V* se tienen que invertir $  1'272,800 \\$ $\n",
    "- En  *Ederra Street Mall & Ferran* se tienen que invertir $ 1'426,830 \\$ $\n",
    "- En  *B Central 270* se tienen que invertir $ 1'170,100 \\$ $"
   ]
  },
  {
   "cell_type": "code",
   "execution_count": 65,
   "metadata": {},
   "outputs": [
    {
     "data": {
      "text/plain": [
       "<BarContainer object of 6 artists>"
      ]
     },
     "execution_count": 65,
     "metadata": {},
     "output_type": "execute_result"
    },
    {
     "data": {
      "image/png": "[encoded data removed]",
      "text/plain": [
       "<Figure size 640x480 with 1 Axes>"
      ]
     },
     "metadata": {},
     "output_type": "display_data"
    }
   ],
   "source": [
    "plt.figure()\n",
    "plt.bar([1,2,3,4,5,6], [resp.x[0],resp.x[1],resp.x[2],resp.x[3],resp.x[4],resp.x[5]], color=\"black\")\n"
   ]
  },
  {
   "cell_type": "code",
   "execution_count": 50,
   "metadata": {},
   "outputs": [
    {
     "data": {
      "text/plain": [
       "558750.0"
      ]
     },
     "execution_count": 50,
     "metadata": {},
     "output_type": "execute_result"
    }
   ],
   "source": [
    "resp.x[0]"
   ]
  },
  {
   "cell_type": "code",
   "execution_count": null,
   "metadata": {},
   "outputs": [],
   "source": []
  },
  {
   "cell_type": "code",
   "execution_count": null,
   "metadata": {},
   "outputs": [],
   "source": []
  },
  {
   "cell_type": "markdown",
   "metadata": {},
   "source": [
    "___\n",
    "## 3. Especificaciones adicionales.\n",
    "El proyecto debe estar disponible en ~~`GitHub`~~ con los integrantes como colaboradores.\n",
    "\n",
    "### 3.1 Notebook de jupyter. \n",
    "> Los anteriores numerales los deben desarrollar todos en un notebook de jupyter y llamarlo de la siguiente manera `ProyectoModulo1_ApellidoN1_ApellidoN2_ApellidoN3`, donde `ApellidoNi` hace referencia al apellido paterno y la inicial del primer nombre del integrante `i`.\n",
    "\n",
    "### 3.2 Presentación.\n",
    "> Recuerden que la nota del proyecto es mitad el trabajo, y mitad la presentación. Deben hacer una presentación en PowerPoint para presentar el trabajo en la clase del lunes **26 de septiembre**. La presentación, además de llevar todos los componentes básicos descritos en el entregable, debe llevar una tabla de contenido.\n",
    "> - **NO DEBE TENER CÓDIGO, PARA ESO ES EL INFORME EN EL NOTEBOOK**\n",
    "> - Presentación: 10 minutos.\n",
    "> - Seguir estas recomendaciones: https://es.slideshare.net/MeireComputacion/power-point-pautas-para-una-buen-trabajo"
   ]
  },
  {
   "cell_type": "code",
   "execution_count": null,
   "metadata": {},
   "outputs": [],
   "source": []
  }
 ],
 "metadata": {
  "kernelspec": {
   "display_name": "Python 3 (ipykernel)",
   "language": "python",
   "name": "python3"
  },
  "language_info": {
   "codemirror_mode": {
    "name": "ipython",
    "version": 3
   },
   "file_extension": ".py",
   "mimetype": "text/x-python",
   "name": "python",
   "nbconvert_exporter": "python",
   "pygments_lexer": "ipython3",
   "version": "3.9.13"
  }
 },
 "nbformat": 4,
 "nbformat_minor": 2
}
