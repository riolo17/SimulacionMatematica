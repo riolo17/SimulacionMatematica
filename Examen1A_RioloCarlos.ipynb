{
 "cells": [
  {
   "cell_type": "markdown",
   "id": "1e2823cf",
   "metadata": {},
   "source": [
    "# Examen A Módulo 1 - Optimización.\n",
    "\n",
    "**Lea cuidadosamente las siguientes indicaciones antes de comenzar el examen:**\n",
    "- Para resolver el examen edite este mismo archivo y renómbrelo de la siguiente manera: *Examen1_ApellidoNombre*, donde *ApellidoNombre* corresponde a su apellido paterno con la inicial en mayúscula, seguido de su primer nombre con la inicial en mayúscula **sin acentos**. Por ejemplo, en mi caso el nombre del archivo sería *Examen1_MoralesGabriel*.\n",
    "- Resuelva los puntos en el espacio provisto. Si requiere agregar más celdas para código o escritura, hágalo (`Esc`,`B`) o (`Esc`,`A`).\n",
    "- Recuerde que también se está evaluando su capacidad de interpretar los resultados. Escriba sus interpretaciones/conclusiones en celdas utilizando *Markdown*.\n",
    "- El formato de presentación de todo el examen en general debe ser adecuado. Use tamaños de letra, colores, etiquetas, etcétera.\n",
    "- No se resuelven dudas de ningún tipo por los profesores de la asignatura. Por favor, absténgase de preguntar.\n",
    "- Revise bien el tipo de examen. Sólo se le calificará si realiza el tipo de examen asignado."
   ]
  },
  {
   "cell_type": "markdown",
   "id": "8d308a28",
   "metadata": {},
   "source": [
    "Carlos Riolo Sotelo\n",
    "09/03/2023"
   ]
  },
  {
   "cell_type": "markdown",
   "id": "53712a36",
   "metadata": {},
   "source": [
    "---\n",
    "# Primer punto. Optimización de funciones con `SymPy` (34 puntos)\n",
    "\n",
    "**Costo mínimo**. Imagine un contenedor rectangular sin tapa que debe satisfacer las siguientes condiciones:\n",
    "\n",
    "- Este contenedor debe tener un volumen **V**.\n",
    "- La longitud de su base es el doble que el de su ancho.\n",
    "- El material para la base cuesta 10.00 MXN por cada $m^2$.\n",
    "- El material para los lados cuesta 6.00 MXN por cada $m^2$.\n",
    "\n",
    "¿Cuál es el costo del contenedor más barato?\n"
   ]
  },
  {
   "cell_type": "markdown",
   "id": "9913d3d8",
   "metadata": {},
   "source": [
    "1. Escriba el costo **C** del contenedor como una función del ancho de la base $x$ y de su altura $h$. Realice este punto usando $\\LaTeX$ y celdas *Markdown*."
   ]
  },
  {
   "cell_type": "markdown",
   "id": "d04a104b",
   "metadata": {},
   "source": [
    "Costo del Contenedor:\n",
    "- Base: $10*2x^2=20 x^2$\n",
    "- Lado: $2xh+4xh=36xh$\n",
    "$$C=20x^2 + 36hx$$"
   ]
  },
  {
   "cell_type": "markdown",
   "id": "a1e58696",
   "metadata": {},
   "source": [
    "2. Determina las dimensiones del contenedor si el volumen debe ser de $12m^3$."
   ]
  },
  {
   "cell_type": "markdown",
   "id": "73d315bc",
   "metadata": {},
   "source": [
    "### Minimizar\n",
    "\n",
    "### Función de Volumen\n",
    "- $V=2 x^2 h=12 m^3$\n"
   ]
  },
  {
   "cell_type": "code",
   "execution_count": 1,
   "id": "82e30525",
   "metadata": {},
   "outputs": [
    {
     "data": {
      "text/latex": [
       "$\\displaystyle \\frac{6}{x^{2}}$"
      ],
      "text/plain": [
       "6/x**2"
      ]
     },
     "execution_count": 1,
     "metadata": {},
     "output_type": "execute_result"
    }
   ],
   "source": [
    "import numpy as np\n",
    "import sympy as sp\n",
    "\n",
    "sp.var(\"x,h\")\n",
    "vol=2*(x**2)*h-12\n",
    "vol\n",
    "alt=sp.solve(vol,h)[0]\n",
    "costo=20*x**2+6*x*h\n",
    "alt"
   ]
  },
  {
   "cell_type": "code",
   "execution_count": 2,
   "id": "8b1217dd",
   "metadata": {
    "scrolled": true
   },
   "outputs": [
    {
     "data": {
      "text/latex": [
       "$\\displaystyle 20 x^{2} + \\frac{36}{x}$"
      ],
      "text/plain": [
       "20*x**2 + 36/x"
      ]
     },
     "execution_count": 2,
     "metadata": {},
     "output_type": "execute_result"
    }
   ],
   "source": [
    "sust=costo.subs(h,alt)\n",
    "sust"
   ]
  },
  {
   "cell_type": "code",
   "execution_count": 3,
   "id": "f4ef8f4f",
   "metadata": {},
   "outputs": [
    {
     "data": {
      "text/latex": [
       "$\\displaystyle 40 x - \\frac{36}{x^{2}}$"
      ],
      "text/plain": [
       "40*x - 36/x**2"
      ]
     },
     "execution_count": 3,
     "metadata": {},
     "output_type": "execute_result"
    }
   ],
   "source": [
    "sp.diff(sust,x)"
   ]
  },
  {
   "cell_type": "code",
   "execution_count": 4,
   "id": "7990dbe3",
   "metadata": {},
   "outputs": [
    {
     "data": {
      "text/plain": [
       "0.9654893846056297"
      ]
     },
     "execution_count": 4,
     "metadata": {},
     "output_type": "execute_result"
    }
   ],
   "source": [
    "resp1=sp.solve(sp.diff(sust,x),x)[0]\n",
    "float(resp1)"
   ]
  },
  {
   "cell_type": "code",
   "execution_count": 5,
   "id": "c08ed710",
   "metadata": {},
   "outputs": [
    {
     "data": {
      "text/latex": [
       "$\\displaystyle 8 \\cdot \\left(5 + \\frac{9}{x^{3}}\\right)$"
      ],
      "text/plain": [
       "8*(5 + 9/x**3)"
      ]
     },
     "execution_count": 5,
     "metadata": {},
     "output_type": "execute_result"
    }
   ],
   "source": [
    "seg_der=sp.diff(sust,x,2)\n",
    "seg_der"
   ]
  },
  {
   "cell_type": "code",
   "execution_count": 6,
   "id": "5ced38a6",
   "metadata": {},
   "outputs": [
    {
     "data": {
      "text/plain": [
       "6.436595897370865"
      ]
     },
     "execution_count": 6,
     "metadata": {},
     "output_type": "execute_result"
    }
   ],
   "source": [
    "h_fin=alt.subs(x,resp1)\n",
    "float(h_fin)"
   ]
  },
  {
   "cell_type": "markdown",
   "id": "5cd548a3",
   "metadata": {},
   "source": [
    "## Resultados\n",
    "- Longuitud del lado: $x=0.9655m$\n",
    "\n",
    "- Altura: $h=6.4366 m$"
   ]
  },
  {
   "cell_type": "markdown",
   "id": "fec1be1e",
   "metadata": {},
   "source": [
    "3. ¿Cuál fue el costo de fabricar este contenedor?"
   ]
  },
  {
   "cell_type": "code",
   "execution_count": 7,
   "id": "0c638fe3",
   "metadata": {},
   "outputs": [
    {
     "data": {
      "text/plain": [
       "18.643395035723152"
      ]
     },
     "execution_count": 7,
     "metadata": {},
     "output_type": "execute_result"
    }
   ],
   "source": [
    "base=20*float(resp1)**2\n",
    "base"
   ]
  },
  {
   "cell_type": "code",
   "execution_count": 14,
   "id": "8cd979f9",
   "metadata": {},
   "outputs": [
    {
     "data": {
      "text/plain": [
       "223.72074042867783"
      ]
     },
     "execution_count": 14,
     "metadata": {},
     "output_type": "execute_result"
    }
   ],
   "source": [
    "lados=36*float(resp1)*float(h_fin)\n",
    "lados"
   ]
  },
  {
   "cell_type": "code",
   "execution_count": 9,
   "id": "06662bea",
   "metadata": {},
   "outputs": [
    {
     "data": {
      "text/plain": [
       "242.364135464401"
      ]
     },
     "execution_count": 9,
     "metadata": {},
     "output_type": "execute_result"
    }
   ],
   "source": [
    "Costo_total=base+lados\n",
    "Costo_total"
   ]
  },
  {
   "cell_type": "markdown",
   "id": "2beafbef",
   "metadata": {},
   "source": [
    "## Resultados\n",
    "\n",
    "- El costo total del contenedor es de: $242.36$ MXN"
   ]
  },
  {
   "cell_type": "markdown",
   "id": "4eeff9c8",
   "metadata": {},
   "source": [
    "---\n",
    "# Segundo punto. Programación lineal (33 puntos)"
   ]
  },
  {
   "cell_type": "markdown",
   "id": "8013ca31",
   "metadata": {},
   "source": [
    "Una empresa se dedica a fabricar tarjetas de control para automóviles, y están en su momento de planeación de compras anuales. Hay 5 proveedores que pueden proveer los componentes, cada uno a su propio precio."
   ]
  },
  {
   "cell_type": "markdown",
   "id": "f41253d2",
   "metadata": {},
   "source": [
    "<table>\n",
    "  <tr>\n",
    "      <th>  </th>\n",
    "      <th>Proveedor 1</th>\n",
    "      <th>Proveedor 2</th>\n",
    "      <th>Proveedor 3</th>\n",
    "      <th>Demanda</th>\n",
    "  </tr>\n",
    "  <tr>\n",
    "      <th>Componente 1</th>\n",
    "      <td>0.5</td>\n",
    "      <td>0.6</td>\n",
    "      <td>0.7</td>\n",
    "      <td>15000</td>\n",
    "  </tr>\n",
    "  <tr style=\"border-bottom: 1px solid #000;\">\n",
    "      <th>Componente 2</th>\n",
    "      <td>0.7</td>\n",
    "      <td>0.5</td>\n",
    "      <td>0.6</td>\n",
    "      <td>20000</td>\n",
    "  </tr>\n",
    "  <tr style=\"border-bottom: 1px solid #000;\">\n",
    "      <th>Componente 3</th>\n",
    "      <td>0.32</td>\n",
    "      <td>0.54</td>\n",
    "      <td>0.8</td>\n",
    "      <td>12000</td>\n",
    "  </tr>\n",
    "\n",
    "  <tr style=\"border-bottom: 1px solid #000;\">\n",
    "      <th>Capacidad</th>\n",
    "      <td> 21000 </td>\n",
    "      <td> 16000 </td>\n",
    "      <td> 16000 </td>\n",
    "      <td>  </td>\n",
    "  </tr>\n",
    "</table>"
   ]
  },
  {
   "cell_type": "markdown",
   "id": "48d6c967",
   "metadata": {},
   "source": [
    "El proveedor tiene restricciones de capacidad de fabricación del tipo de componentes, por lo que un proveedor no puede satisfacer nuestra demanda completa para cada componente."
   ]
  },
  {
   "cell_type": "markdown",
   "id": "85e307ae",
   "metadata": {},
   "source": [
    "Se desea conocer la cantidad que se debe comprar de cada componente a cada proveedor para gastar la menor cantidad de dinero posible, pero al mismo tiempo lograr satisfacer la demanda para poder continuar con la manufactura del producto."
   ]
  },
  {
   "cell_type": "markdown",
   "id": "df55a736",
   "metadata": {},
   "source": [
    "1. Escriba la función a **minimizar** junto con las restricciones, explicando detalladamente cada paso (usando fórmulas en $\\LaTeX$, en celdas Markdown). Además escriba el problema en la forma \\begin{equation}\n",
    "\\begin{array}{ll}\n",
    "\\min_{\\boldsymbol{x}} & \\boldsymbol{c}^T\\boldsymbol{x} \\\\\n",
    "\\text{s. a. }        & \\boldsymbol{A}_{eq}\\boldsymbol{x}=\\boldsymbol{b}_{eq} \\\\\n",
    "                     & \\boldsymbol{A}\\boldsymbol{x}\\leq\\boldsymbol{b},\n",
    "\\end{array}\\qquad\\text{(23 puntos)}\n",
    "\\end{equation}"
   ]
  },
  {
   "cell_type": "markdown",
   "id": "04ce36d6",
   "metadata": {},
   "source": [
    "$min_x$    $0.5 x_1+0.7x_2+0.32_x3+0.6x_4+0.5x_5+0.54x_6+0.7x_7+0.6x_8+0.8x_9$\n",
    "\n",
    "- $x_1 +x_4+x_7 \\geq 15000$\n",
    "- $x_2+x_5+x_8 \\geq 20000$\n",
    "- $x_3+x_6+x_9 \\geq 12000$\n",
    "- $x_1+x_2+x_3 \\leq 21000$\n",
    "- $x_4+x_5+x_6 \\leq 16000$\n",
    "- $x_7+x_8+x_9 \\leq 16000$"
   ]
  },
  {
   "cell_type": "markdown",
   "id": "4f8863ce",
   "metadata": {},
   "source": []
  },
  {
   "cell_type": "markdown",
   "id": "6c1e3c9a",
   "metadata": {},
   "source": [
    "2. Resuelva el problema utilizando la función `linprog`. ¿Cómo debe ser la distribución de compras? ¿Cuánto dinero se necesita para satisfacer la demanda? (10 puntos)"
   ]
  },
  {
   "cell_type": "code",
   "execution_count": 11,
   "id": "d321188e",
   "metadata": {},
   "outputs": [
    {
     "data": {
      "text/plain": [
       "           con: array([], dtype=float64)\n",
       " crossover_nit: 0\n",
       "         eqlin:  marginals: array([], dtype=float64)\n",
       "  residual: array([], dtype=float64)\n",
       "           fun: 22940.0\n",
       "       ineqlin:  marginals: array([-0.7 , -0.6 , -0.52, -0.2 , -0.1 , -0.  ])\n",
       "  residual: array([   0.,    0.,    0.,    0.,    0., 6000.])\n",
       "         lower:  marginals: array([0.  , 0.3 , 0.  , 0.  , 0.  , 0.12, 0.  , 0.  , 0.28])\n",
       "  residual: array([ 9000.,     0., 12000.,     0., 16000.,     0.,  6000.,  4000.,\n",
       "           0.])\n",
       "       message: 'Optimization terminated successfully. (HiGHS Status 7: Optimal)'\n",
       "           nit: 6\n",
       "         slack: array([   0.,    0.,    0.,    0.,    0., 6000.])\n",
       "        status: 0\n",
       "       success: True\n",
       "         upper:  marginals: array([0., 0., 0., 0., 0., 0., 0., 0., 0.])\n",
       "  residual: array([inf, inf, inf, inf, inf, inf, inf, inf, inf])\n",
       "             x: array([ 9000.,     0., 12000.,     0., 16000.,     0.,  6000.,  4000.,\n",
       "           0.])"
      ]
     },
     "execution_count": 11,
     "metadata": {},
     "output_type": "execute_result"
    }
   ],
   "source": [
    "import scipy.optimize as opt\n",
    "c=np.array([0.5, 0.7, 0.32, 0.6, 0.5, 0.54, 0.7, 0.6, 0.8])\n",
    "Aub=np.array([ [-1, 0, 0, -1, 0, 0, -1, 0, 0],\n",
    "               [0, -1, 0, 0, -1, 0, 0, -1, 0],\n",
    "               [0, 0, -1, 0, 0, -1, 0, 0, -1],\n",
    "               [1, 1, 1, 0, 0, 0, 0, 0, 0],\n",
    "               [0, 0, 0, 1, 1, 1, 0, 0, 0],\n",
    "               [0, 0, 0, 0, 0, 0, 1, 1, 1],\n",
    "               ])\n",
    "bub=np.array([-15000, -20000, -12000, 21000, 16000, 16000])\n",
    "\n",
    "resp=opt.linprog(c,Aub,bub)\n",
    "resp"
   ]
  },
  {
   "cell_type": "markdown",
   "id": "38fd12d0",
   "metadata": {},
   "source": [
    "## Interpretación\n",
    "\n",
    "9000 componentes 1 al Proveedor1\n",
    "\n",
    "\n",
    "12000 componentes 3 al Proveedor1\n",
    "\n",
    "\n",
    "16000 comonentes 2 al Proveedor2\n",
    "\n",
    "\n",
    "6000 componentes 1 al Proveedor3\n",
    "\n",
    "\n",
    "4000 componentes 2 al Proveedor3"
   ]
  },
  {
   "cell_type": "code",
   "execution_count": 13,
   "id": "83966a67",
   "metadata": {},
   "outputs": [
    {
     "data": {
      "text/plain": [
       "23740.0"
      ]
     },
     "execution_count": 13,
     "metadata": {},
     "output_type": "execute_result"
    }
   ],
   "source": [
    "9000*0.5+12000*0.32+16000*0.5+6000*0.7+4000*0.8"
   ]
  },
  {
   "cell_type": "markdown",
   "id": "31f009d3",
   "metadata": {},
   "source": [
    "------"
   ]
  },
  {
   "cell_type": "markdown",
   "id": "03aa267b",
   "metadata": {},
   "source": [
    "## Corrección (Faltó Tiempo)\n",
    "\n",
    "- ¿Cuánto dinero se necesita para satisfacer la demanda?\n",
    "\n",
    "    $9000x_1 + 12000x_3 + 16000x_5 + 6000x_7 + 4000x_8=23,740$\n",
    "    \n",
    "    Se necesitan $23,740$ MXN para satisfacer la demanda"
   ]
  },
  {
   "cell_type": "markdown",
   "id": "675e20af",
   "metadata": {},
   "source": [
    "-----"
   ]
  },
  {
   "cell_type": "markdown",
   "id": "5663a48b",
   "metadata": {},
   "source": [
    "# Tercer punto. Ajuste de curvas (33 puntos)\n",
    "\n",
    "Utiliza el archivo adjunto en Canvas en el apartado que corresponde al examen."
   ]
  },
  {
   "cell_type": "markdown",
   "id": "c673e9e6",
   "metadata": {},
   "source": [
    "Escribe tu número de expediente: *735124*"
   ]
  },
  {
   "cell_type": "markdown",
   "id": "da3c6c2e",
   "metadata": {},
   "source": [
    "Lee el archivo y extrae la siguiente información:\n",
    "- $x$ es la primer columna del archivo\n",
    "- $y$ es la columna correspondiente a los últimos dos dígitos de tu número de expediente + 1. E.g. mi expediente es $693871$; por lo tanto, debo usar la columna $72$."
   ]
  },
  {
   "cell_type": "code",
   "execution_count": 7,
   "id": "46fbbaf5",
   "metadata": {},
   "outputs": [
    {
     "data": {
      "text/html": [
       "<div>\n",
       "<style scoped>\n",
       "    .dataframe tbody tr th:only-of-type {\n",
       "        vertical-align: middle;\n",
       "    }\n",
       "\n",
       "    .dataframe tbody tr th {\n",
       "        vertical-align: top;\n",
       "    }\n",
       "\n",
       "    .dataframe thead th {\n",
       "        text-align: right;\n",
       "    }\n",
       "</style>\n",
       "<table border=\"1\" class=\"dataframe\">\n",
       "  <thead>\n",
       "    <tr style=\"text-align: right;\">\n",
       "      <th></th>\n",
       "      <th>0</th>\n",
       "      <th>1</th>\n",
       "      <th>2</th>\n",
       "      <th>3</th>\n",
       "      <th>4</th>\n",
       "      <th>5</th>\n",
       "      <th>6</th>\n",
       "      <th>7</th>\n",
       "      <th>8</th>\n",
       "      <th>9</th>\n",
       "      <th>...</th>\n",
       "      <th>91</th>\n",
       "      <th>92</th>\n",
       "      <th>93</th>\n",
       "      <th>94</th>\n",
       "      <th>95</th>\n",
       "      <th>96</th>\n",
       "      <th>97</th>\n",
       "      <th>98</th>\n",
       "      <th>99</th>\n",
       "      <th>100</th>\n",
       "    </tr>\n",
       "  </thead>\n",
       "  <tbody>\n",
       "    <tr>\n",
       "      <th>0</th>\n",
       "      <td>0.000000</td>\n",
       "      <td>4.983091</td>\n",
       "      <td>3.769339</td>\n",
       "      <td>5.594828</td>\n",
       "      <td>6.429803</td>\n",
       "      <td>4.511528</td>\n",
       "      <td>6.706383</td>\n",
       "      <td>2.911751</td>\n",
       "      <td>-2.864652</td>\n",
       "      <td>-3.093433</td>\n",
       "      <td>...</td>\n",
       "      <td>6.667738</td>\n",
       "      <td>5.885562</td>\n",
       "      <td>-2.052453</td>\n",
       "      <td>-2.984045</td>\n",
       "      <td>5.750429</td>\n",
       "      <td>2.135754</td>\n",
       "      <td>-1.234049</td>\n",
       "      <td>3.500585</td>\n",
       "      <td>3.206284</td>\n",
       "      <td>-2.015092</td>\n",
       "    </tr>\n",
       "    <tr>\n",
       "      <th>1</th>\n",
       "      <td>0.002002</td>\n",
       "      <td>3.614394</td>\n",
       "      <td>2.396633</td>\n",
       "      <td>4.225133</td>\n",
       "      <td>5.058559</td>\n",
       "      <td>3.141485</td>\n",
       "      <td>5.346220</td>\n",
       "      <td>1.538843</td>\n",
       "      <td>-4.236502</td>\n",
       "      <td>-4.464649</td>\n",
       "      <td>...</td>\n",
       "      <td>5.312463</td>\n",
       "      <td>4.525002</td>\n",
       "      <td>-3.410375</td>\n",
       "      <td>-4.346935</td>\n",
       "      <td>4.396159</td>\n",
       "      <td>0.773647</td>\n",
       "      <td>-2.607035</td>\n",
       "      <td>2.130640</td>\n",
       "      <td>1.840478</td>\n",
       "      <td>-3.376963</td>\n",
       "    </tr>\n",
       "    <tr>\n",
       "      <th>2</th>\n",
       "      <td>0.004004</td>\n",
       "      <td>4.188195</td>\n",
       "      <td>2.966396</td>\n",
       "      <td>4.797931</td>\n",
       "      <td>5.629813</td>\n",
       "      <td>3.713902</td>\n",
       "      <td>5.928572</td>\n",
       "      <td>2.108423</td>\n",
       "      <td>-3.665847</td>\n",
       "      <td>-3.893386</td>\n",
       "      <td>...</td>\n",
       "      <td>5.899704</td>\n",
       "      <td>5.106895</td>\n",
       "      <td>-2.825807</td>\n",
       "      <td>-3.767381</td>\n",
       "      <td>4.984377</td>\n",
       "      <td>1.354042</td>\n",
       "      <td>-2.037531</td>\n",
       "      <td>2.703165</td>\n",
       "      <td>2.417138</td>\n",
       "      <td>-2.796368</td>\n",
       "    </tr>\n",
       "    <tr>\n",
       "      <th>3</th>\n",
       "      <td>0.006006</td>\n",
       "      <td>5.445592</td>\n",
       "      <td>4.219727</td>\n",
       "      <td>6.054320</td>\n",
       "      <td>6.884664</td>\n",
       "      <td>4.969878</td>\n",
       "      <td>7.194535</td>\n",
       "      <td>3.361588</td>\n",
       "      <td>-2.411586</td>\n",
       "      <td>-2.638543</td>\n",
       "      <td>...</td>\n",
       "      <td>7.170558</td>\n",
       "      <td>6.372337</td>\n",
       "      <td>-1.557653</td>\n",
       "      <td>-2.504284</td>\n",
       "      <td>6.256181</td>\n",
       "      <td>2.618039</td>\n",
       "      <td>-0.784438</td>\n",
       "      <td>3.959257</td>\n",
       "      <td>3.677362</td>\n",
       "      <td>-1.532206</td>\n",
       "    </tr>\n",
       "    <tr>\n",
       "      <th>4</th>\n",
       "      <td>0.008008</td>\n",
       "      <td>5.067521</td>\n",
       "      <td>3.837561</td>\n",
       "      <td>5.675236</td>\n",
       "      <td>6.504048</td>\n",
       "      <td>4.590350</td>\n",
       "      <td>6.825046</td>\n",
       "      <td>2.979275</td>\n",
       "      <td>-2.792786</td>\n",
       "      <td>-3.019186</td>\n",
       "      <td>...</td>\n",
       "      <td>6.805961</td>\n",
       "      <td>6.002265</td>\n",
       "      <td>-1.924977</td>\n",
       "      <td>-2.876709</td>\n",
       "      <td>5.892506</td>\n",
       "      <td>2.246572</td>\n",
       "      <td>-1.166821</td>\n",
       "      <td>3.579851</td>\n",
       "      <td>3.302087</td>\n",
       "      <td>-1.903542</td>\n",
       "    </tr>\n",
       "    <tr>\n",
       "      <th>...</th>\n",
       "      <td>...</td>\n",
       "      <td>...</td>\n",
       "      <td>...</td>\n",
       "      <td>...</td>\n",
       "      <td>...</td>\n",
       "      <td>...</td>\n",
       "      <td>...</td>\n",
       "      <td>...</td>\n",
       "      <td>...</td>\n",
       "      <td>...</td>\n",
       "      <td>...</td>\n",
       "      <td>...</td>\n",
       "      <td>...</td>\n",
       "      <td>...</td>\n",
       "      <td>...</td>\n",
       "      <td>...</td>\n",
       "      <td>...</td>\n",
       "      <td>...</td>\n",
       "      <td>...</td>\n",
       "      <td>...</td>\n",
       "      <td>...</td>\n",
       "    </tr>\n",
       "    <tr>\n",
       "      <th>995</th>\n",
       "      <td>1.991992</td>\n",
       "      <td>-37.621743</td>\n",
       "      <td>-26.216957</td>\n",
       "      <td>2.179613</td>\n",
       "      <td>34.525805</td>\n",
       "      <td>-81.587062</td>\n",
       "      <td>44.262737</td>\n",
       "      <td>22.788572</td>\n",
       "      <td>58.082286</td>\n",
       "      <td>-69.526880</td>\n",
       "      <td>...</td>\n",
       "      <td>-57.907315</td>\n",
       "      <td>-30.282534</td>\n",
       "      <td>2.509291</td>\n",
       "      <td>-114.436776</td>\n",
       "      <td>14.101042</td>\n",
       "      <td>109.678623</td>\n",
       "      <td>11.649459</td>\n",
       "      <td>0.666863</td>\n",
       "      <td>27.882475</td>\n",
       "      <td>93.843512</td>\n",
       "    </tr>\n",
       "    <tr>\n",
       "      <th>996</th>\n",
       "      <td>1.993994</td>\n",
       "      <td>-38.413531</td>\n",
       "      <td>-26.940495</td>\n",
       "      <td>1.526510</td>\n",
       "      <td>34.067619</td>\n",
       "      <td>-82.481098</td>\n",
       "      <td>43.789529</td>\n",
       "      <td>22.302350</td>\n",
       "      <td>57.727557</td>\n",
       "      <td>-70.383159</td>\n",
       "      <td>...</td>\n",
       "      <td>-58.823098</td>\n",
       "      <td>-31.021199</td>\n",
       "      <td>1.898045</td>\n",
       "      <td>-115.441524</td>\n",
       "      <td>13.503160</td>\n",
       "      <td>109.438779</td>\n",
       "      <td>11.124500</td>\n",
       "      <td>0.086051</td>\n",
       "      <td>27.430621</td>\n",
       "      <td>93.598580</td>\n",
       "    </tr>\n",
       "    <tr>\n",
       "      <th>997</th>\n",
       "      <td>1.995996</td>\n",
       "      <td>-38.302053</td>\n",
       "      <td>-26.760562</td>\n",
       "      <td>1.777022</td>\n",
       "      <td>34.513839</td>\n",
       "      <td>-82.472001</td>\n",
       "      <td>44.220604</td>\n",
       "      <td>22.720442</td>\n",
       "      <td>58.277463</td>\n",
       "      <td>-70.336305</td>\n",
       "      <td>...</td>\n",
       "      <td>-58.835998</td>\n",
       "      <td>-30.856352</td>\n",
       "      <td>2.190637</td>\n",
       "      <td>-115.543472</td>\n",
       "      <td>13.809172</td>\n",
       "      <td>110.103751</td>\n",
       "      <td>11.503708</td>\n",
       "      <td>0.409258</td>\n",
       "      <td>27.883253</td>\n",
       "      <td>94.258542</td>\n",
       "    </tr>\n",
       "    <tr>\n",
       "      <th>998</th>\n",
       "      <td>1.997998</td>\n",
       "      <td>-39.725567</td>\n",
       "      <td>-28.115414</td>\n",
       "      <td>0.492894</td>\n",
       "      <td>33.426211</td>\n",
       "      <td>-83.998028</td>\n",
       "      <td>43.117706</td>\n",
       "      <td>21.604596</td>\n",
       "      <td>57.293749</td>\n",
       "      <td>-71.824574</td>\n",
       "      <td>...</td>\n",
       "      <td>-60.384272</td>\n",
       "      <td>-32.226251</td>\n",
       "      <td>0.948811</td>\n",
       "      <td>-117.180880</td>\n",
       "      <td>12.580823</td>\n",
       "      <td>109.235287</td>\n",
       "      <td>10.348831</td>\n",
       "      <td>-0.801770</td>\n",
       "      <td>26.802116</td>\n",
       "      <td>93.385145</td>\n",
       "    </tr>\n",
       "    <tr>\n",
       "      <th>999</th>\n",
       "      <td>2.000000</td>\n",
       "      <td>-39.118378</td>\n",
       "      <td>-27.439358</td>\n",
       "      <td>1.239819</td>\n",
       "      <td>34.370429</td>\n",
       "      <td>-83.493487</td>\n",
       "      <td>44.046532</td>\n",
       "      <td>22.520505</td>\n",
       "      <td>58.342113</td>\n",
       "      <td>-71.282274</td>\n",
       "      <td>...</td>\n",
       "      <td>-59.902228</td>\n",
       "      <td>-31.565200</td>\n",
       "      <td>1.738263</td>\n",
       "      <td>-116.788054</td>\n",
       "      <td>13.383808</td>\n",
       "      <td>110.399081</td>\n",
       "      <td>11.225562</td>\n",
       "      <td>0.018661</td>\n",
       "      <td>27.752907</td>\n",
       "      <td>94.544086</td>\n",
       "    </tr>\n",
       "  </tbody>\n",
       "</table>\n",
       "<p>1000 rows × 101 columns</p>\n",
       "</div>"
      ],
      "text/plain": [
       "          0          1          2         3          4          5    \\\n",
       "0    0.000000   4.983091   3.769339  5.594828   6.429803   4.511528   \n",
       "1    0.002002   3.614394   2.396633  4.225133   5.058559   3.141485   \n",
       "2    0.004004   4.188195   2.966396  4.797931   5.629813   3.713902   \n",
       "3    0.006006   5.445592   4.219727  6.054320   6.884664   4.969878   \n",
       "4    0.008008   5.067521   3.837561  5.675236   6.504048   4.590350   \n",
       "..        ...        ...        ...       ...        ...        ...   \n",
       "995  1.991992 -37.621743 -26.216957  2.179613  34.525805 -81.587062   \n",
       "996  1.993994 -38.413531 -26.940495  1.526510  34.067619 -82.481098   \n",
       "997  1.995996 -38.302053 -26.760562  1.777022  34.513839 -82.472001   \n",
       "998  1.997998 -39.725567 -28.115414  0.492894  33.426211 -83.998028   \n",
       "999  2.000000 -39.118378 -27.439358  1.239819  34.370429 -83.493487   \n",
       "\n",
       "           6          7          8          9    ...        91         92   \\\n",
       "0     6.706383   2.911751  -2.864652  -3.093433  ...   6.667738   5.885562   \n",
       "1     5.346220   1.538843  -4.236502  -4.464649  ...   5.312463   4.525002   \n",
       "2     5.928572   2.108423  -3.665847  -3.893386  ...   5.899704   5.106895   \n",
       "3     7.194535   3.361588  -2.411586  -2.638543  ...   7.170558   6.372337   \n",
       "4     6.825046   2.979275  -2.792786  -3.019186  ...   6.805961   6.002265   \n",
       "..         ...        ...        ...        ...  ...        ...        ...   \n",
       "995  44.262737  22.788572  58.082286 -69.526880  ... -57.907315 -30.282534   \n",
       "996  43.789529  22.302350  57.727557 -70.383159  ... -58.823098 -31.021199   \n",
       "997  44.220604  22.720442  58.277463 -70.336305  ... -58.835998 -30.856352   \n",
       "998  43.117706  21.604596  57.293749 -71.824574  ... -60.384272 -32.226251   \n",
       "999  44.046532  22.520505  58.342113 -71.282274  ... -59.902228 -31.565200   \n",
       "\n",
       "          93          94         95          96         97        98   \\\n",
       "0   -2.052453   -2.984045   5.750429    2.135754  -1.234049  3.500585   \n",
       "1   -3.410375   -4.346935   4.396159    0.773647  -2.607035  2.130640   \n",
       "2   -2.825807   -3.767381   4.984377    1.354042  -2.037531  2.703165   \n",
       "3   -1.557653   -2.504284   6.256181    2.618039  -0.784438  3.959257   \n",
       "4   -1.924977   -2.876709   5.892506    2.246572  -1.166821  3.579851   \n",
       "..        ...         ...        ...         ...        ...       ...   \n",
       "995  2.509291 -114.436776  14.101042  109.678623  11.649459  0.666863   \n",
       "996  1.898045 -115.441524  13.503160  109.438779  11.124500  0.086051   \n",
       "997  2.190637 -115.543472  13.809172  110.103751  11.503708  0.409258   \n",
       "998  0.948811 -117.180880  12.580823  109.235287  10.348831 -0.801770   \n",
       "999  1.738263 -116.788054  13.383808  110.399081  11.225562  0.018661   \n",
       "\n",
       "           99         100  \n",
       "0     3.206284  -2.015092  \n",
       "1     1.840478  -3.376963  \n",
       "2     2.417138  -2.796368  \n",
       "3     3.677362  -1.532206  \n",
       "4     3.302087  -1.903542  \n",
       "..         ...        ...  \n",
       "995  27.882475  93.843512  \n",
       "996  27.430621  93.598580  \n",
       "997  27.883253  94.258542  \n",
       "998  26.802116  93.385145  \n",
       "999  27.752907  94.544086  \n",
       "\n",
       "[1000 rows x 101 columns]"
      ]
     },
     "execution_count": 7,
     "metadata": {},
     "output_type": "execute_result"
    }
   ],
   "source": [
    "data=pd.read_excel(\"E01-RegresionLineal.xlsx\")\n",
    "data"
   ]
  },
  {
   "cell_type": "code",
   "execution_count": 8,
   "id": "feb405d3",
   "metadata": {},
   "outputs": [],
   "source": [
    "x=data.values[:,0]\n",
    "y=data.values[:,25]\n"
   ]
  },
  {
   "cell_type": "markdown",
   "id": "8714fbd7",
   "metadata": {},
   "source": [
    "1. Ajuste los datos con polinomios de grados 1, 3, y 5. Muestre los errores de forma gráfica. ¿Qué polinomio se ajusta mejor?"
   ]
  },
  {
   "cell_type": "code",
   "execution_count": 9,
   "id": "027ba631",
   "metadata": {},
   "outputs": [
    {
     "data": {
      "image/png": "[encoded data removed]",
      "text/plain": [
       "<Figure size 640x480 with 1 Axes>"
      ]
     },
     "metadata": {},
     "output_type": "display_data"
    }
   ],
   "source": [
    "import scipy.optimize as opt\n",
    "import numpy as np\n",
    "import matplotlib.pyplot as plt\n",
    "%matplotlib inline\n",
    "import pandas as pd\n",
    "\n",
    "plt.figure()\n",
    "plt.scatter(x,y, s=2)\n",
    "plt.grid()"
   ]
  },
  {
   "cell_type": "code",
   "execution_count": 23,
   "id": "867c7c09",
   "metadata": {},
   "outputs": [],
   "source": [
    "def f_costo(beta, X, y):\n",
    "    m,n=X.shape\n",
    "    beta=np.reshape(beta, [n,1])\n",
    "    prediccion= X @ beta \n",
    "    error= prediccion-y\n",
    "    return (error.T @ error)[0][0]\n"
   ]
  },
  {
   "cell_type": "code",
   "execution_count": 24,
   "id": "02c63d5b",
   "metadata": {},
   "outputs": [
    {
     "data": {
      "text/plain": [
       "array([[1.      , 0.      ],\n",
       "       [1.      , 0.002002],\n",
       "       [1.      , 0.004004],\n",
       "       ...,\n",
       "       [1.      , 1.995996],\n",
       "       [1.      , 1.997998],\n",
       "       [1.      , 2.      ]])"
      ]
     },
     "execution_count": 24,
     "metadata": {},
     "output_type": "execute_result"
    }
   ],
   "source": [
    "m=len(y)\n",
    "ones=np.ones([m,1])\n",
    "x1=np.reshape(x,[m,1])\n",
    "\n",
    "X1=np.hstack((ones,x1))\n",
    "X1"
   ]
  },
  {
   "cell_type": "code",
   "execution_count": 25,
   "id": "d7940a94",
   "metadata": {},
   "outputs": [],
   "source": [
    "beta_inicial1=np.random.rand(2) \n",
    "y_vec1=np.reshape(y,[m,1])"
   ]
  },
  {
   "cell_type": "code",
   "execution_count": 26,
   "id": "c545b1d7",
   "metadata": {},
   "outputs": [
    {
     "data": {
      "text/plain": [
       "      fun: 88104.13153847141\n",
       " hess_inv: array([[ 0.00200624, -0.00151384],\n",
       "       [-0.00151384,  0.00151999]])\n",
       "      jac: array([0., 0.])\n",
       "  message: 'Optimization terminated successfully.'\n",
       "     nfev: 36\n",
       "      nit: 6\n",
       "     njev: 12\n",
       "   status: 0\n",
       "  success: True\n",
       "        x: array([-17.61408996,  36.46039598])"
      ]
     },
     "execution_count": 26,
     "metadata": {},
     "output_type": "execute_result"
    }
   ],
   "source": [
    "sol1=opt.minimize(f_costo, beta_inicial1, args=(X1,y_vec1))\n",
    "sol1"
   ]
  },
  {
   "cell_type": "code",
   "execution_count": 27,
   "id": "ae00a4f6",
   "metadata": {},
   "outputs": [
    {
     "data": {
      "image/png": "[encoded data removed]",
      "text/plain": [
       "<Figure size 640x480 with 1 Axes>"
      ]
     },
     "metadata": {},
     "output_type": "display_data"
    }
   ],
   "source": [
    "plt.figure()\n",
    "plt.scatter(x,y, s=2)\n",
    "plt.plot(x1,X1@sol1.x, \"r\")\n",
    "\n",
    "plt.grid()"
   ]
  },
  {
   "cell_type": "code",
   "execution_count": 28,
   "id": "f38172a7",
   "metadata": {},
   "outputs": [
    {
     "data": {
      "text/plain": [
       "array([[1.00000000e+00, 0.00000000e+00, 0.00000000e+00, 0.00000000e+00],\n",
       "       [1.00000000e+00, 2.00200200e-03, 4.00801202e-06, 8.02404808e-09],\n",
       "       [1.00000000e+00, 4.00400400e-03, 1.60320481e-05, 6.41923846e-08],\n",
       "       ...,\n",
       "       [1.00000000e+00, 1.99599600e+00, 3.98400002e+00, 7.95204808e+00],\n",
       "       [1.00000000e+00, 1.99799800e+00, 3.99199600e+00, 7.97600002e+00],\n",
       "       [1.00000000e+00, 2.00000000e+00, 4.00000000e+00, 8.00000000e+00]])"
      ]
     },
     "execution_count": 28,
     "metadata": {},
     "output_type": "execute_result"
    }
   ],
   "source": [
    "m=len(y)\n",
    "ones=np.ones([m,1])\n",
    "x1=np.reshape(x,[m,1])\n",
    "x2=np.reshape(x**2,[m,1])\n",
    "x3=np.reshape(x**3,[m,1])\n",
    "\n",
    "\n",
    "X3=np.hstack((ones,x1,x2,x3))\n",
    "X3"
   ]
  },
  {
   "cell_type": "code",
   "execution_count": 29,
   "id": "1d212d6b",
   "metadata": {},
   "outputs": [],
   "source": [
    "beta_inicial3=np.random.rand(4) \n",
    "y_vec3=np.reshape(y,[m,1])"
   ]
  },
  {
   "cell_type": "code",
   "execution_count": 30,
   "id": "82a7b4ca",
   "metadata": {},
   "outputs": [
    {
     "data": {
      "text/plain": [
       "      fun: 1035.5573137432489\n",
       " hess_inv: array([[ 0.00260281, -0.00396387, -0.00062267,  0.00115455],\n",
       "       [-0.00396387,  0.01242315, -0.00229248, -0.00210792],\n",
       "       [-0.00062267, -0.00229248,  0.00186607, -0.00014114],\n",
       "       [ 0.00115455, -0.00210792, -0.00014114,  0.00060746]])\n",
       "      jac: array([ 0.00000000e+00, -1.52587891e-05,  0.00000000e+00,  0.00000000e+00])\n",
       "  message: 'Desired error not necessarily achieved due to precision loss.'\n",
       "     nfev: 135\n",
       "      nit: 12\n",
       "     njev: 27\n",
       "   status: 2\n",
       "  success: False\n",
       "        x: array([ -3.19286816,  10.60271363, -13.22768245,  14.52655807])"
      ]
     },
     "execution_count": 30,
     "metadata": {},
     "output_type": "execute_result"
    }
   ],
   "source": [
    "sol3=opt.minimize(f_costo, beta_inicial3, args=(X3,y_vec3))\n",
    "sol3"
   ]
  },
  {
   "cell_type": "code",
   "execution_count": 31,
   "id": "5a007911",
   "metadata": {},
   "outputs": [
    {
     "data": {
      "image/png": "[encoded data removed]",
      "text/plain": [
       "<Figure size 640x480 with 1 Axes>"
      ]
     },
     "metadata": {},
     "output_type": "display_data"
    }
   ],
   "source": [
    "plt.figure()\n",
    "plt.scatter(x,y,s=5)\n",
    "plt.plot(x1,X3@sol3.x, color=\"black\")\n",
    "plt.grid()"
   ]
  },
  {
   "cell_type": "code",
   "execution_count": 32,
   "id": "1fa6ed21",
   "metadata": {},
   "outputs": [
    {
     "data": {
      "text/plain": [
       "array([[1.00000000e+00, 0.00000000e+00, 0.00000000e+00, 0.00000000e+00,\n",
       "        0.00000000e+00, 0.00000000e+00],\n",
       "       [1.00000000e+00, 2.00200200e-03, 4.00801202e-06, 8.02404808e-09,\n",
       "        1.60641603e-11, 3.21604811e-14],\n",
       "       [1.00000000e+00, 4.00400400e-03, 1.60320481e-05, 6.41923846e-08,\n",
       "        2.57026565e-10, 1.02913540e-12],\n",
       "       ...,\n",
       "       [1.00000000e+00, 1.99599600e+00, 3.98400002e+00, 7.95204808e+00,\n",
       "        1.58722561e+01, 3.16809597e+01],\n",
       "       [1.00000000e+00, 1.99799800e+00, 3.99199600e+00, 7.97600002e+00,\n",
       "        1.59360321e+01, 3.18401602e+01],\n",
       "       [1.00000000e+00, 2.00000000e+00, 4.00000000e+00, 8.00000000e+00,\n",
       "        1.60000000e+01, 3.20000000e+01]])"
      ]
     },
     "execution_count": 32,
     "metadata": {},
     "output_type": "execute_result"
    }
   ],
   "source": [
    "m=len(y)\n",
    "ones=np.ones([m,1])\n",
    "x1=np.reshape(x,[m,1])\n",
    "x2=np.reshape(x**2,[m,1])\n",
    "x3=np.reshape(x**3,[m,1])\n",
    "x4=np.reshape(x**4,[m,1])\n",
    "x5=np.reshape(x**5,[m,1])\n",
    "\n",
    "X5=np.hstack((ones,x1,x2,x3,x4,x5))\n",
    "X5"
   ]
  },
  {
   "cell_type": "code",
   "execution_count": 33,
   "id": "7ec86c4e",
   "metadata": {},
   "outputs": [],
   "source": [
    "beta_inicial5=np.random.rand(6) \n",
    "y_vec5=np.reshape(y,[m,1])"
   ]
  },
  {
   "cell_type": "code",
   "execution_count": 34,
   "id": "1be4391a",
   "metadata": {},
   "outputs": [
    {
     "data": {
      "text/plain": [
       "      fun: 964.2161619744702\n",
       " hess_inv: array([[ 0.00588822, -0.01487826,  0.01059606, -0.00372196,  0.00250248,\n",
       "        -0.00093478],\n",
       "       [-0.01487826,  0.03985621, -0.0258025 ,  0.00922754, -0.01071671,\n",
       "         0.00444294],\n",
       "       [ 0.01059606, -0.0258025 ,  0.02289938, -0.00588538, -0.0005762 ,\n",
       "         0.0001093 ],\n",
       "       [-0.00372196,  0.00922754, -0.00588538,  0.00265834, -0.00219111,\n",
       "         0.00071871],\n",
       "       [ 0.00250248, -0.01071671, -0.0005762 , -0.00219111,  0.01286024,\n",
       "        -0.00540397],\n",
       "       [-0.00093478,  0.00444294,  0.0001093 ,  0.00071871, -0.00540397,\n",
       "         0.00235866]])\n",
       "      jac: array([9.91821289e-05, 1.14440918e-04, 1.67846680e-04, 2.28881836e-04,\n",
       "       3.66210938e-04, 6.86645508e-04])\n",
       "  message: 'Desired error not necessarily achieved due to precision loss.'\n",
       "     nfev: 217\n",
       "      nit: 17\n",
       "     njev: 31\n",
       "   status: 2\n",
       "  success: False\n",
       "        x: array([-2.37600805,  2.27654114,  5.97973862, -1.11998991,  4.43841612,\n",
       "       -0.18960271])"
      ]
     },
     "execution_count": 34,
     "metadata": {},
     "output_type": "execute_result"
    }
   ],
   "source": [
    "sol5=opt.minimize(f_costo, beta_inicial5, args=(X5,y_vec5))\n",
    "sol5"
   ]
  },
  {
   "cell_type": "code",
   "execution_count": 35,
   "id": "3a6fc2a4",
   "metadata": {},
   "outputs": [
    {
     "data": {
      "image/png": "[encoded data removed]",
      "text/plain": [
       "<Figure size 640x480 with 1 Axes>"
      ]
     },
     "metadata": {},
     "output_type": "display_data"
    }
   ],
   "source": [
    "plt.figure()\n",
    "plt.scatter(x,y,s=5)\n",
    "plt.plot(x1,X5@sol5.x, color=\"cyan\")\n",
    "plt.grid()"
   ]
  },
  {
   "cell_type": "code",
   "execution_count": 36,
   "id": "64bbdb79",
   "metadata": {},
   "outputs": [
    {
     "data": {
      "image/png": "[encoded data removed]",
      "text/plain": [
       "<Figure size 640x480 with 1 Axes>"
      ]
     },
     "metadata": {},
     "output_type": "display_data"
    }
   ],
   "source": [
    "plt.figure()\n",
    "plt.scatter(x,y,s=5)\n",
    "plt.plot(x1,X1@sol1.x, \"r\")\n",
    "plt.plot(x1,X3@sol3.x, color=\"black\")\n",
    "plt.plot(x1,X5@sol5.x, color=\"cyan\")\n",
    "plt.grid()"
   ]
  },
  {
   "cell_type": "code",
   "execution_count": 37,
   "id": "6db73439",
   "metadata": {},
   "outputs": [
    {
     "data": {
      "text/plain": [
       "<BarContainer object of 3 artists>"
      ]
     },
     "execution_count": 37,
     "metadata": {},
     "output_type": "execute_result"
    },
    {
     "data": {
      "image/png": "[encoded data removed]",
      "text/plain": [
       "<Figure size 640x480 with 1 Axes>"
      ]
     },
     "metadata": {},
     "output_type": "display_data"
    }
   ],
   "source": [
    "plt.figure()\n",
    "plt.bar([1,3,5],[sol1.fun,sol3.fun,sol5.fun])"
   ]
  },
  {
   "cell_type": "code",
   "execution_count": 38,
   "id": "cbf2a922",
   "metadata": {},
   "outputs": [
    {
     "data": {
      "text/plain": [
       "<BarContainer object of 2 artists>"
      ]
     },
     "execution_count": 38,
     "metadata": {},
     "output_type": "execute_result"
    },
    {
     "data": {
      "image/png": "[encoded data removed]",
      "text/plain": [
       "<Figure size 640x480 with 1 Axes>"
      ]
     },
     "metadata": {},
     "output_type": "display_data"
    }
   ],
   "source": [
    "plt.figure()\n",
    "plt.bar([3,5],[sol3.fun,sol5.fun])"
   ]
  },
  {
   "cell_type": "markdown",
   "id": "29932346",
   "metadata": {},
   "source": [
    "### Resultado\n",
    "En base a las gráficas de barras de los errores, el que muestra menor error es el Polinomio de Grado 5, siendo un poco más exacto que el de grado 3."
   ]
  },
  {
   "cell_type": "markdown",
   "id": "59862478",
   "metadata": {},
   "source": [
    "2. Muestre en un gráfico los datos y el polinomio que mejor se ajuste."
   ]
  },
  {
   "cell_type": "code",
   "execution_count": 39,
   "id": "27387213",
   "metadata": {},
   "outputs": [
    {
     "data": {
      "image/png": "[encoded data removed]",
      "text/plain": [
       "<Figure size 640x480 with 1 Axes>"
      ]
     },
     "metadata": {},
     "output_type": "display_data"
    }
   ],
   "source": [
    "plt.figure()\n",
    "plt.scatter(x,y,s=5)\n",
    "plt.plot(x1,X5@sol5.x, color=\"cyan\")\n",
    "plt.grid()"
   ]
  },
  {
   "cell_type": "code",
   "execution_count": null,
   "id": "f4097aa4",
   "metadata": {},
   "outputs": [],
   "source": []
  },
  {
   "cell_type": "markdown",
   "id": "238f342a",
   "metadata": {},
   "source": [
    "3. Use el modelo para averiguar el valor de $y$ cuando:\n",
    "- $x=0.001$\n",
    "- $x=-0.1$\n",
    "- $x=2.1$"
   ]
  },
  {
   "cell_type": "code",
   "execution_count": 40,
   "id": "82706e4e",
   "metadata": {},
   "outputs": [
    {
     "data": {
      "text/plain": [
       "-2.37371910107688"
      ]
     },
     "execution_count": 40,
     "metadata": {},
     "output_type": "execute_result"
    }
   ],
   "source": [
    "def poli(x):\n",
    "    return -2.37600153 + 2.27644999*x + 5.98004908*x**2 - 1.12039898*x**3 + 4.43864485*x**4 - 0.1896483*x**5\n",
    "poli(0.001)"
   ]
  },
  {
   "cell_type": "code",
   "execution_count": 41,
   "id": "b5d4cfe7",
   "metadata": {},
   "outputs": [
    {
     "data": {
      "text/plain": [
       "-2.542279878252"
      ]
     },
     "execution_count": 41,
     "metadata": {},
     "output_type": "execute_result"
    }
   ],
   "source": [
    "poli(-0.1)"
   ]
  },
  {
   "cell_type": "code",
   "execution_count": 42,
   "id": "51beb7c1",
   "metadata": {},
   "outputs": [
    {
     "data": {
      "text/plain": [
       "96.97832572852202"
      ]
     },
     "execution_count": 42,
     "metadata": {},
     "output_type": "execute_result"
    }
   ],
   "source": [
    "poli(2.1)"
   ]
  },
  {
   "cell_type": "code",
   "execution_count": 43,
   "id": "e3b01903",
   "metadata": {},
   "outputs": [
    {
     "data": {
      "text/plain": [
       "<matplotlib.collections.PathCollection at 0x1601a3f0310>"
      ]
     },
     "execution_count": 43,
     "metadata": {},
     "output_type": "execute_result"
    },
    {
     "data": {
      "image/png": "[encoded data removed]",
      "text/plain": [
       "<Figure size 640x480 with 1 Axes>"
      ]
     },
     "metadata": {},
     "output_type": "display_data"
    }
   ],
   "source": [
    "plt.figure()\n",
    "plt.scatter(x,y,s=5)\n",
    "plt.scatter(0.001,poli(0.001))\n",
    "plt.scatter(-0.1,poli(-0.1))\n",
    "plt.scatter(2.1,poli(2.1))"
   ]
  },
  {
   "cell_type": "markdown",
   "id": "4af77457",
   "metadata": {},
   "source": [
    "4. ¿Qué diferencias encuentra en cuanto a la interpolación y la extrapolación?"
   ]
  },
  {
   "cell_type": "markdown",
   "id": "2e5066df",
   "metadata": {},
   "source": [
    "La interpolación es más exacta que la extrapolación ya que hay datos en los extremos para aporximar, normalmente la extrapolación conforme se aleja de los datos que tiene ya sea hacía la derecha o la izquierda, se pierde la precisión del módelo."
   ]
  },
  {
   "cell_type": "markdown",
   "id": "3ff8002f",
   "metadata": {},
   "source": [
    "5. (Punto extra) Agregue un termino $\\beta_5 cos(10x)$ a su modelo y grafique los resultados. ¿Mejoró el resultado?"
   ]
  },
  {
   "cell_type": "markdown",
   "id": "6ac8045b",
   "metadata": {},
   "source": [
    "# Corrección por falta de Tiempo"
   ]
  },
  {
   "cell_type": "code",
   "execution_count": 44,
   "id": "28b1f9ef",
   "metadata": {},
   "outputs": [
    {
     "data": {
      "text/plain": [
       "array([[1.00000000e+00, 0.00000000e+00, 0.00000000e+00, 0.00000000e+00,\n",
       "        0.00000000e+00, 1.00000000e+00],\n",
       "       [1.00000000e+00, 2.00200200e-03, 4.00801202e-06, 8.02404808e-09,\n",
       "        1.60641603e-11, 9.99799606e-01],\n",
       "       [1.00000000e+00, 4.00400400e-03, 1.60320481e-05, 6.41923846e-08,\n",
       "        2.57026565e-10, 9.99198505e-01],\n",
       "       ...,\n",
       "       [1.00000000e+00, 1.99599600e+00, 3.98400002e+00, 7.95204808e+00,\n",
       "        1.58722561e+01, 4.44299584e-01],\n",
       "       [1.00000000e+00, 1.99799800e+00, 3.99199600e+00, 7.97600002e+00,\n",
       "        1.59360321e+01, 4.26276246e-01],\n",
       "       [1.00000000e+00, 2.00000000e+00, 4.00000000e+00, 8.00000000e+00,\n",
       "        1.60000000e+01, 4.08082062e-01]])"
      ]
     },
     "execution_count": 44,
     "metadata": {},
     "output_type": "execute_result"
    }
   ],
   "source": [
    "m=len(y)\n",
    "ones=np.ones([m,1])\n",
    "x1=np.reshape(x,[m,1])\n",
    "x2=np.reshape(x**2,[m,1])\n",
    "x3=np.reshape(x**3,[m,1])\n",
    "x4=np.reshape(x**4,[m,1])\n",
    "x51=np.reshape(np.cos(10*x),[m,1])\n",
    "\n",
    "X51=np.hstack((ones,x1,x2,x3,x4,x51))\n",
    "X51"
   ]
  },
  {
   "cell_type": "code",
   "execution_count": 45,
   "id": "2beca975",
   "metadata": {
    "scrolled": true
   },
   "outputs": [],
   "source": [
    "beta_inicial51=np.random.rand(6) \n",
    "y_vec51=np.reshape(y,[m,1])"
   ]
  },
  {
   "cell_type": "code",
   "execution_count": 46,
   "id": "011525b0",
   "metadata": {},
   "outputs": [
    {
     "data": {
      "text/plain": [
       "      fun: 962.838313542673\n",
       " hess_inv: array([[ 0.00437832, -0.00582576, -0.01090973,  0.01680736, -0.0053522 ,\n",
       "         0.00018498],\n",
       "       [-0.00582576,  0.01497136,  0.01610146, -0.03607512,  0.0129943 ,\n",
       "        -0.0011486 ],\n",
       "       [-0.01090973,  0.01610146,  0.03642935, -0.05258221,  0.01604396,\n",
       "         0.00116607],\n",
       "       [ 0.01680736, -0.03607512, -0.05258221,  0.09854154, -0.03365471,\n",
       "         0.00014126],\n",
       "       [-0.0053522 ,  0.0129943 ,  0.01604396, -0.03365471,  0.01196312,\n",
       "        -0.00028812],\n",
       "       [ 0.00018498, -0.0011486 ,  0.00116607,  0.00014126, -0.00028812,\n",
       "         0.00105083]])\n",
       "      jac: array([0.00000000e+00, 3.05175781e-05, 1.52587891e-05, 1.52587891e-05,\n",
       "       1.52587891e-05, 1.52587891e-05])\n",
       "  message: 'Desired error not necessarily achieved due to precision loss.'\n",
       "     nfev: 418\n",
       "      nit: 15\n",
       "     njev: 58\n",
       "   status: 2\n",
       "  success: False\n",
       "        x: array([-2.34703106,  2.16790197,  5.73942866, -0.23676901,  3.69625973,\n",
       "       -0.05932227])"
      ]
     },
     "execution_count": 46,
     "metadata": {},
     "output_type": "execute_result"
    }
   ],
   "source": [
    "sol51=opt.minimize(f_costo, beta_inicial51, args=(X51,y_vec51))\n",
    "sol51"
   ]
  },
  {
   "cell_type": "code",
   "execution_count": 47,
   "id": "23fff2cd",
   "metadata": {},
   "outputs": [
    {
     "data": {
      "image/png": "[encoded data removed]",
      "text/plain": [
       "<Figure size 640x480 with 1 Axes>"
      ]
     },
     "metadata": {},
     "output_type": "display_data"
    }
   ],
   "source": [
    "plt.figure()\n",
    "plt.scatter(x,y,s=5)\n",
    "plt.plot(x1,X51@sol51.x, color=\"cyan\")\n",
    "plt.grid()"
   ]
  },
  {
   "cell_type": "code",
   "execution_count": 48,
   "id": "35a571db",
   "metadata": {},
   "outputs": [
    {
     "data": {
      "text/plain": [
       "<BarContainer object of 3 artists>"
      ]
     },
     "execution_count": 48,
     "metadata": {},
     "output_type": "execute_result"
    },
    {
     "data": {
      "image/png": "[encoded data removed]",
      "text/plain": [
       "<Figure size 640x480 with 1 Axes>"
      ]
     },
     "metadata": {},
     "output_type": "display_data"
    }
   ],
   "source": [
    "plt.figure()\n",
    "plt.bar([1,3,5],[sol1.fun,sol3.fun,sol51.fun])"
   ]
  },
  {
   "cell_type": "code",
   "execution_count": 52,
   "id": "1860461a",
   "metadata": {},
   "outputs": [
    {
     "data": {
      "text/plain": [
       "<BarContainer object of 2 artists>"
      ]
     },
     "execution_count": 52,
     "metadata": {},
     "output_type": "execute_result"
    },
    {
     "data": {
      "image/png": "[encoded data removed]",
      "text/plain": [
       "<Figure size 640x480 with 1 Axes>"
      ]
     },
     "metadata": {},
     "output_type": "display_data"
    }
   ],
   "source": [
    "plt.figure()\n",
    "plt.bar([5,5.5],[sol5.fun,sol51.fun])"
   ]
  },
  {
   "cell_type": "markdown",
   "id": "5fe4297d",
   "metadata": {},
   "source": [
    "Se puede apreciar al comparar el gráfico de error de el término $\\beta_5x^5$ contra el término $\\beta_5 cos(10x)$ que sí hay una pequeña mejora, tal vez no muy significativa."
   ]
  },
  {
   "cell_type": "markdown",
   "id": "ff6709ca",
   "metadata": {},
   "source": []
  }
 ],
 "metadata": {
  "kernelspec": {
   "display_name": "Python 3 (ipykernel)",
   "language": "python",
   "name": "python3"
  },
  "language_info": {
   "codemirror_mode": {
    "name": "ipython",
    "version": 3
   },
   "file_extension": ".py",
   "mimetype": "text/x-python",
   "name": "python",
   "nbconvert_exporter": "python",
   "pygments_lexer": "ipython3",
   "version": "3.9.13"
  }
 },
 "nbformat": 4,
 "nbformat_minor": 5
}
