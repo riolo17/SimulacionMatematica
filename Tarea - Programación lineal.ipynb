{
 "cells": [
  {
   "cell_type": "markdown",
   "metadata": {},
   "source": [
    "# Tarea - Programación lineal"
   ]
  },
  {
   "cell_type": "markdown",
   "metadata": {},
   "source": [
    "Nombre: Carlos Riolo Sotelo\n",
    "\n",
    "Expediente: 735124\n",
    "\n",
    "Fecha: 16/02/2023\n"
   ]
  },
  {
   "cell_type": "markdown",
   "metadata": {},
   "source": [
    "### Diseño de la Dieta Óptima\n",
    "\n",
    "Se quiere producir comida para gatos de la manera más barata, no obstante se debe también asegurar que se cumplan los datos requeridos de analisis nutricional. Por lo que se quiere variar la cantidad de cada ingrediente para cumplir con los estandares nutricionales. Los requisitos que se tienen es que en $100$ gramos, se deben tener **por lo menos** $8$ gramos de proteína y $6$ gramos de grasa. Así mismo, no se debe tener más de $2$ gramos de fibra y $0.4$ gramos de sal.  \n",
    "\n",
    "Los datos nutricionales se pueden obtener de la siguiente tabla:\n",
    "\n",
    "Ingrediente|Proteína|Grasa|Fibra|Sal\n",
    ":----|----|----|----|----\n",
    "Pollo|  10.0%|08.0%|00.1%|00.2%\n",
    "Carne|  20.0%|10.0%|00.5%|00.5%\n",
    "Cordero|15.0%|11.0%|00.5%|00.7%\n",
    "Arroz|  00.0%|01.0%|10.0%|00.2%\n",
    "Trigo|  04.0%|01.0%|15.0%|00.8%\n",
    "Gel|    00.0%|00.0%|00.0%|00.0%\n",
    "\n",
    "Los costos de cada producto son:\n",
    "\n",
    "Ingrediente|Costo por gramo\n",
    ":----|----\n",
    "Pollo|$\\$$0.013\n",
    "Carne|$\\$$0.008\n",
    "Cordero|$\\$$0.010\n",
    "Arroz|$\\$$0.002\n",
    "Trigo|$\\$$0.005\n",
    "Gel|$\\$$0.001    \n",
    "\n",
    "Lo que se busca optimizar en este caso es la cantidad de productos que se debe utilizar en la comida de gato, minimizando el costo total. Para simplificar la notación use las siguientes variables: \n",
    "\n",
    "+ $x_1:$ Gramos de pollo  \n",
    "+ $x_2:$ Gramos de carne  \n",
    "+ $x_3:$ Gramos de cordero  \n",
    "+ $x_4:$ Gramos de arroz  \n",
    "+ $x_5:$ Gramos de trigo  \n",
    "+ $x_6:$ Gramos de gel\n",
    "\n",
    "La tarea consiste en plantear el problemade programación lineal que permita satisfacer las necesidades alimenticias del gato al tiempo que minimice el costo total y resolverlo con `linprog`."
   ]
  },
  {
   "cell_type": "markdown",
   "metadata": {},
   "source": [
    "## Análisis del Problema\n",
    "\n",
    "Variables:\n",
    "- $x_1, x_2, x_3, x_4, x_5, x_6$\n",
    "\n",
    "Función a Optimizar (Minimizar):\n",
    "- $.013 x_1 + .008 x_2 + .01 x_3 + .002 x_4 + .005 x_5 + .001 x_6$\n",
    "\n",
    "Restricciones:\n",
    "- Min. 8g de Proteina y 6g de Grasa por porción\n",
    "- Máx. 2g de Fibra y 0.4g de Sal por porción\n",
    "- Porción de 100g\n",
    "\n"
   ]
  },
  {
   "cell_type": "code",
   "execution_count": 2,
   "metadata": {},
   "outputs": [],
   "source": [
    "import numpy as np\n",
    "import sympy as sp\n",
    "import scipy.optimize as opt\n",
    "import matplotlib.pyplot as plt\n",
    "%matplotlib inline"
   ]
  },
  {
   "cell_type": "code",
   "execution_count": 6,
   "metadata": {},
   "outputs": [
    {
     "data": {
      "text/plain": [
       "           con: array([], dtype=float64)\n",
       " crossover_nit: 0\n",
       "         eqlin:  marginals: array([], dtype=float64)\n",
       "  residual: array([], dtype=float64)\n",
       "           fun: 0.52\n",
       "       ineqlin:  marginals: array([-0.   , -0.   , -0.001, -0.07 , -0.   ])\n",
       "  residual: array([1.7, 0.1, 0. , 0. , 4. ])\n",
       "         lower:  marginals: array([0.0064, 0.    , 0.0013, 0.0003, 0.0033, 0.    ])\n",
       "  residual: array([ 0., 60.,  0.,  0.,  0., 40.])\n",
       "       message: 'Optimization terminated successfully. (HiGHS Status 7: Optimal)'\n",
       "           nit: 2\n",
       "         slack: array([1.7, 0.1, 0. , 0. , 4. ])\n",
       "        status: 0\n",
       "       success: True\n",
       "         upper:  marginals: array([0., 0., 0., 0., 0., 0.])\n",
       "  residual: array([inf, inf, inf, inf, inf, inf])\n",
       "             x: array([ 0., 60.,  0.,  0.,  0., 40.])"
      ]
     },
     "execution_count": 6,
     "metadata": {},
     "output_type": "execute_result"
    }
   ],
   "source": [
    "c=np.array([.013, .008, .01, .002, .005, .001])\n",
    "\n",
    "Aub=np.array([ [0.001, 0.005, 0.005, 0.100, 0.150, 0.000],\n",
    "               [0.002, 0.005, 0.007, 0.002, 0.008, 0.000],\n",
    "               [-1.000, -1.000, -1.000, -1.000, -1.000, -1.000],\n",
    "               [-0.080, -0.100, -0.110, -0.010, -0.010, -0.000],\n",
    "               [-0.100, -0.200, -0.150, -0.000, -0.040, -0.000]\n",
    "             ])\n",
    "\n",
    "bub=np.array([2,\n",
    "              0.4,\n",
    "              -100,\n",
    "              -6,\n",
    "              -8])\n",
    "\n",
    "gato=opt.linprog(c,Aub,bub)\n",
    "gato"
   ]
  },
  {
   "cell_type": "markdown",
   "metadata": {},
   "source": [
    "## Interpretación de Resultados\n",
    "\n",
    "\n",
    "Lo más barato para cumplir los requerimientos nutrimentales, por cada 100g, es:\n",
    "- 60g de Carne\n",
    "- 40g de Gel\n",
    "\n"
   ]
  },
  {
   "cell_type": "code",
   "execution_count": null,
   "metadata": {},
   "outputs": [],
   "source": []
  },
  {
   "cell_type": "markdown",
   "metadata": {},
   "source": [
    "### Problema de distribución de energía eléctrica\n",
    "\n",
    "La Comisión Federal de Electricidad **(CFE)** dispone de tres plantas de generación para satisfacer la demanda diaria eléctrica en tres ciudades, Guadalajara, León y Morelia. Las plantas $1$, $2$ y $3$ pueden satisfacer $80$, $40$ y $60$ millones de KW al día respectivamente. Las necesidades de las ciudades de Guadalajara, León y Morelia son de $70$, $40$ y $70$ millones de Kw al día respectivamente. \n",
    "\n",
    "\n",
    "Los costos asociados al envío de suministro energético por cada millón de Kw entre cada planta y cada ciudad son los registrados en la siguiente tabla. \n",
    "\n",
    "-|Guadalajara|León|Morelia\n",
    ":----|----|----|----\n",
    "Planta 1|5|2|7\n",
    "Planta 2|3|6|6\n",
    "Planta 3|6|1|2\n",
    "\n",
    "Y por último, las restricciones del problema, van a estar dadas por las capacidades de oferta y demanda de cada planta (en millones de KW) y cada ciudad.\n",
    "\n",
    "Para simplificar la notación use las siguientes variables:\n",
    "\n",
    "+ $x_1$: Kw (en millones) distribuidos de la Planta 1 a Guadalajara\n",
    "+ $x_2$: Kw (en millones) distribuidos de la Planta 1 a León\n",
    "+ $x_3$: Kw (en millones) distribuidos de la Planta 1 a Morelia\n",
    "+ $x_4$: Kw (en millones) distribuidos de la Planta 2 a Guadalajara\n",
    "+ $x_5$: Kw (en millones) distribuidos de la Planta 2 a León\n",
    "+ $x_6$: Kw (en millones) distribuidos de la Planta 2 a Morelia\n",
    "+ $x_7$: Kw (en millones) distribuidos de la Planta 3 a Guadalajara\n",
    "+ $x_8$: Kw (en millones) distribuidos de la Planta 3 a León\n",
    "+ $x_9$: Kw (en millones) distribuidos de la Planta 3 a Morelia\n",
    "\n",
    "La tarea consiste en plantear el problema de programación lineal que permita satisfacer las necesidades de todas las ciudades al tiempo que minimice los costos asociados a la distribución y resolverlo con `linprog`."
   ]
  },
  {
   "cell_type": "markdown",
   "metadata": {},
   "source": [
    "## Análisis del Problema\n",
    "\n",
    "Variables:\n",
    "- $x_1 , x_2 , x_3 , x_4 , x_5 , x_6 , x_7 , x_8 , x_9$\n",
    "\n",
    "Función a Optimizar (Minimizar):\n",
    "- $5 x_1 + 2 x_2 + 7 x_3 + 3 x_4 + 6 x_5 + 6 x_6 + 6 x_7 + 1 x_8 + 2 x_9$\n",
    "\n",
    "Restricciones:\n",
    "- $ x_1 + x_2 +x_3 \\leq 80 $\n",
    "- $ x_4 + x_5 + x_6 \\leq 40 $\n",
    "- $ x_7 + x_8 + x_9\\leq 60 $\n",
    "- $ x_1 + x_4 + x_7 \\geq 70 $\n",
    "- $ x_2 + x_5 + x_8 \\geq 40 $\n",
    "- $ x_3 + x_6 + x_9 \\geq 70 $"
   ]
  },
  {
   "cell_type": "code",
   "execution_count": 7,
   "metadata": {},
   "outputs": [
    {
     "data": {
      "text/plain": [
       "           con: array([], dtype=float64)\n",
       " crossover_nit: 0\n",
       "         eqlin:  marginals: array([], dtype=float64)\n",
       "  residual: array([], dtype=float64)\n",
       "           fun: 540.0\n",
       "       ineqlin:  marginals: array([-0., -2., -5., -5., -2., -7.])\n",
       "  residual: array([0., 0., 0., 0., 0., 0.])\n",
       "         lower:  marginals: array([0., 0., 0., 0., 6., 1., 6., 4., 0.])\n",
       "  residual: array([30., 40., 10., 40.,  0.,  0.,  0.,  0., 60.])\n",
       "       message: 'Optimization terminated successfully. (HiGHS Status 7: Optimal)'\n",
       "           nit: 6\n",
       "         slack: array([0., 0., 0., 0., 0., 0.])\n",
       "        status: 0\n",
       "       success: True\n",
       "         upper:  marginals: array([0., 0., 0., 0., 0., 0., 0., 0., 0.])\n",
       "  residual: array([inf, inf, inf, inf, inf, inf, inf, inf, inf])\n",
       "             x: array([30., 40., 10., 40.,  0.,  0.,  0.,  0., 60.])"
      ]
     },
     "execution_count": 7,
     "metadata": {},
     "output_type": "execute_result"
    }
   ],
   "source": [
    "c=np.array([5, 2, 7, 3, 6, 6, 6, 1, 2])\n",
    "\n",
    "Aub=np.array([ [1.000, 1.000, 1.000, 0.000, 0.000, 0.000, 0.000, 0.000, 0.000],\n",
    "               [0.000, 0.000, 0.000, 1.000, 1.000, 1.000, 0.000, 0.000, 0.000],\n",
    "               [0.000, 0.000, 0.000, 0.000, 0.000, 0.000, 1.000, 1.000, 1.000],\n",
    "               [-1.000, 0.000, 0.000, -1.000, 0.000, 0.000, -1.000, 0.000, 0.000],\n",
    "               [0.000, -1.000, 0.000, 0.000, -1.000, 0.000, 0.000, -1.000, 0.000],\n",
    "               [0.000, 0.000, -1.000, 0.000, 0.000, -1.000, 0.000, 0.000, -1.000]\n",
    "             ])\n",
    "\n",
    "bub=np.array([80,\n",
    "              40,\n",
    "              60,\n",
    "              -70,\n",
    "              -40,\n",
    "              -70])\n",
    "\n",
    "kilowatt=opt.linprog(c,Aub,bub)\n",
    "kilowatt"
   ]
  },
  {
   "cell_type": "markdown",
   "metadata": {},
   "source": [
    "El costo asociado de distribuir la demanda de electricidad a las siguientes ciudades es:\n",
    "\n",
    "    Guadalajara: 270\n",
    "    León: 80\n",
    "    Morelia: 180"
   ]
  },
  {
   "cell_type": "code",
   "execution_count": null,
   "metadata": {},
   "outputs": [],
   "source": []
  }
 ],
 "metadata": {
  "kernelspec": {
   "display_name": "Python 3 (ipykernel)",
   "language": "python",
   "name": "python3"
  },
  "language_info": {
   "codemirror_mode": {
    "name": "ipython",
    "version": 3
   },
   "file_extension": ".py",
   "mimetype": "text/x-python",
   "name": "python",
   "nbconvert_exporter": "python",
   "pygments_lexer": "ipython3",
   "version": "3.9.13"
  }
 },
 "nbformat": 4,
 "nbformat_minor": 2
}
