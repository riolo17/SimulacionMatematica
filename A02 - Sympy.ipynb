{
 "cells": [
  {
   "cell_type": "markdown",
   "metadata": {},
   "source": [
    "# Ejercicios de optimización escalar"
   ]
  },
  {
   "cell_type": "markdown",
   "metadata": {},
   "source": [
    "Carlos Riolo Sotelo\n",
    "26 de enero de 2023"
   ]
  },
  {
   "cell_type": "markdown",
   "metadata": {},
   "source": [
    "**Para la siguientes funciones encuentre los puntos críticos, grafique y diga si éste se trata de un máximo o mínimo, local o global.**"
   ]
  },
  {
   "cell_type": "markdown",
   "metadata": {},
   "source": [
    "$f(x)=1260+117x-9x^2$"
   ]
  },
  {
   "cell_type": "code",
   "execution_count": 1,
   "metadata": {},
   "outputs": [],
   "source": [
    "import sympy as sp\n",
    "import numpy as np\n",
    "import matplotlib.pyplot as plt\n",
    "%matplotlib inline\n"
   ]
  },
  {
   "cell_type": "code",
   "execution_count": 3,
   "metadata": {},
   "outputs": [
    {
     "data": {
      "text/latex": [
       "$\\displaystyle 117 - 18 x$"
      ],
      "text/plain": [
       "117 - 18*x"
      ]
     },
     "execution_count": 3,
     "metadata": {},
     "output_type": "execute_result"
    }
   ],
   "source": [
    "sp.var(\"x\")\n",
    "\n",
    "def f1(x):\n",
    "    return 1260+117*x-9*x**2\n",
    "#Primera derivada\n",
    "df1=sp.diff(f1(x),x)\n",
    "df1"
   ]
  },
  {
   "cell_type": "code",
   "execution_count": 8,
   "metadata": {},
   "outputs": [
    {
     "data": {
      "text/plain": [
       "6.5"
      ]
     },
     "execution_count": 8,
     "metadata": {},
     "output_type": "execute_result"
    }
   ],
   "source": [
    "#Igualar a 0 y resolver para x y encontrar punto crítico\n",
    "float(sp.solve(df1,x)[0])"
   ]
  },
  {
   "cell_type": "code",
   "execution_count": 6,
   "metadata": {},
   "outputs": [
    {
     "data": {
      "text/latex": [
       "$\\displaystyle -18$"
      ],
      "text/plain": [
       "-18"
      ]
     },
     "execution_count": 6,
     "metadata": {},
     "output_type": "execute_result"
    }
   ],
   "source": [
    "#Segunda Derivada\n",
    "ddf1=sp.diff(f1(x),x,2)\n",
    "ddf1"
   ]
  },
  {
   "cell_type": "code",
   "execution_count": 27,
   "metadata": {},
   "outputs": [
    {
     "name": "stderr",
     "output_type": "stream",
     "text": [
      "C:\\Users\\Maru\\AppData\\Local\\Temp\\ipykernel_22444\\2396797900.py:9: RuntimeWarning: invalid value encountered in true_divide\n",
      "  return -18*x/x\n"
     ]
    },
    {
     "data": {
      "image/png": "[encoded data removed]",
      "text/plain": [
       "<Figure size 640x480 with 1 Axes>"
      ]
     },
     "metadata": {},
     "output_type": "display_data"
    }
   ],
   "source": [
    "x1n=np.linspace(-10,20,1000)\n",
    "y1n=f1(x1n)\n",
    "sp.var(\"x\")\n",
    "def df1(x):\n",
    "    return 117-18*x\n",
    "dy1n=df1(x1n)\n",
    "\n",
    "def ddf1(x):\n",
    "    return -18*x/x\n",
    "ddy1n=ddf1(x1n)\n",
    "\n",
    "\n",
    "plt.figure()\n",
    "plt.plot(x1n,y1n,\"r\") #Graficar la funcion original\n",
    "plt.plot(x1n,dy1n,\"g\")#Graficar la primera derivada\n",
    "plt.plot(x1n,ddy1n,\"b\")#Graficar la segunda derivada\n",
    "plt.plot(6.5,f1(6.5),\"or\")#Graficar el punto crítico\n",
    "plt.grid()\n"
   ]
  },
  {
   "cell_type": "markdown",
   "metadata": {},
   "source": [
    "Por lo tanto, podemos confirmar en la gráfica que 6.5 es un punto crítico, siendo este un máximo"
   ]
  },
  {
   "cell_type": "code",
   "execution_count": null,
   "metadata": {},
   "outputs": [],
   "source": []
  },
  {
   "cell_type": "markdown",
   "metadata": {},
   "source": [
    "$f(x)=5+x+\\frac{4}{x}$, para $x>0$"
   ]
  },
  {
   "cell_type": "code",
   "execution_count": 17,
   "metadata": {},
   "outputs": [
    {
     "data": {
      "text/latex": [
       "$\\displaystyle 1 - \\frac{4}{x^{2}}$"
      ],
      "text/plain": [
       "1 - 4/x**2"
      ]
     },
     "execution_count": 17,
     "metadata": {},
     "output_type": "execute_result"
    }
   ],
   "source": [
    "sp.var(\"x\")\n",
    "#Función Original\n",
    "def f2(x):\n",
    "    return 5+x+(4/x)\n",
    "#Primera Derivada\n",
    "df2=sp.diff(f2(x),x)\n",
    "df2"
   ]
  },
  {
   "cell_type": "code",
   "execution_count": 18,
   "metadata": {},
   "outputs": [
    {
     "data": {
      "text/latex": [
       "$\\displaystyle \\frac{8}{x^{3}}$"
      ],
      "text/plain": [
       "8/x**3"
      ]
     },
     "execution_count": 18,
     "metadata": {},
     "output_type": "execute_result"
    }
   ],
   "source": [
    "#Segunda Derivada\n",
    "ddf2=sp.diff(f2(x),x,2)\n",
    "ddf2"
   ]
  },
  {
   "cell_type": "code",
   "execution_count": 20,
   "metadata": {},
   "outputs": [
    {
     "data": {
      "text/plain": [
       "[-2, 2]"
      ]
     },
     "execution_count": 20,
     "metadata": {},
     "output_type": "execute_result"
    }
   ],
   "source": [
    "sp.solve(df2,x)"
   ]
  },
  {
   "cell_type": "code",
   "execution_count": 21,
   "metadata": {},
   "outputs": [
    {
     "data": {
      "text/latex": [
       "$\\displaystyle 2$"
      ],
      "text/plain": [
       "2"
      ]
     },
     "execution_count": 21,
     "metadata": {},
     "output_type": "execute_result"
    }
   ],
   "source": [
    "sp.solve(df2,x)[1]"
   ]
  },
  {
   "cell_type": "code",
   "execution_count": 26,
   "metadata": {},
   "outputs": [
    {
     "data": {
      "image/png": "[encoded data removed]",
      "text/plain": [
       "<Figure size 640x480 with 1 Axes>"
      ]
     },
     "metadata": {},
     "output_type": "display_data"
    }
   ],
   "source": [
    "x2n=np.linspace(1,20,1000)\n",
    "y2n=f2(x2n)\n",
    "sp.var(\"x\")\n",
    "def df2(x):\n",
    "    return 1-(4/x**2)\n",
    "dy2n=df2(x2n)\n",
    "\n",
    "def ddf2(x):\n",
    "    return 8/(x**3)\n",
    "ddy2n=ddf2(x2n)\n",
    "\n",
    "\n",
    "plt.figure()\n",
    "plt.plot(x2n,y2n,\"r\") #Graficar la funcion original\n",
    "plt.plot(x2n,dy2n,\"g\") #Graficar la primera derivada\n",
    "plt.plot(x2n,ddy2n,\"b\") #Graficar la segunda derivada\n",
    "plt.plot(2,f2(2),\"or\") #Graficar el punto crítico\n",
    "plt.grid()"
   ]
  },
  {
   "cell_type": "markdown",
   "metadata": {},
   "source": [
    "Se puede observar que donde se encuentra el punto rojo, es un mínimo global"
   ]
  },
  {
   "cell_type": "code",
   "execution_count": null,
   "metadata": {},
   "outputs": [],
   "source": []
  },
  {
   "cell_type": "markdown",
   "metadata": {},
   "source": [
    "$f(x)=6-2x+\\sqrt{18-2x^2}$, para $-3\\leq x\\leq 3$"
   ]
  },
  {
   "cell_type": "code",
   "execution_count": 36,
   "metadata": {},
   "outputs": [
    {
     "data": {
      "text/latex": [
       "$\\displaystyle - \\frac{2 x}{\\sqrt{18 - 2 x^{2}}} - 2$"
      ],
      "text/plain": [
       "-2*x/sqrt(18 - 2*x**2) - 2"
      ]
     },
     "execution_count": 36,
     "metadata": {},
     "output_type": "execute_result"
    }
   ],
   "source": [
    "sp.var(\"x\")\n",
    "#Función Original\n",
    "def f3(x):\n",
    "    return 6-2*x+sp.sqrt(18-2*x**2)\n",
    "#Primera Derivada\n",
    "df3=sp.diff(f3(x),x)\n",
    "df3"
   ]
  },
  {
   "cell_type": "code",
   "execution_count": 30,
   "metadata": {},
   "outputs": [
    {
     "data": {
      "text/latex": [
       "$\\displaystyle - \\frac{\\sqrt{2} \\left(\\frac{x^{2}}{9 - x^{2}} + 1\\right)}{\\sqrt{9 - x^{2}}}$"
      ],
      "text/plain": [
       "-sqrt(2)*(x**2/(9 - x**2) + 1)/sqrt(9 - x**2)"
      ]
     },
     "execution_count": 30,
     "metadata": {},
     "output_type": "execute_result"
    }
   ],
   "source": [
    "#Segunda Derivada\n",
    "ddf3=sp.diff(f3(x),x,2)\n",
    "ddf3"
   ]
  },
  {
   "cell_type": "code",
   "execution_count": 34,
   "metadata": {},
   "outputs": [
    {
     "data": {
      "text/latex": [
       "$\\displaystyle - \\sqrt{6}$"
      ],
      "text/plain": [
       "-sqrt(6)"
      ]
     },
     "execution_count": 34,
     "metadata": {},
     "output_type": "execute_result"
    }
   ],
   "source": [
    "sp.solve(df3,x)[0]"
   ]
  },
  {
   "cell_type": "code",
   "execution_count": 41,
   "metadata": {},
   "outputs": [
    {
     "ename": "SympifyError",
     "evalue": "SympifyError: array([ 0.        ,  0.07199993,  0.14385557,  0.21556692,  0.28713398,\n        0.35855675,  0.42983524,  0.50096944,  0.57195935,  0.64280497,\n        0.7135063 ,  0.78406334,  0.8544761 ,  0.92474456,  0.99486874,\n        1.06484863,  1.13468423,  1.20437555,  1.27392257,  1.34332531,\n        1.41258375,  1.48169791,  1.55066778,  1.61949337,  1.68817466,\n        1.75671167,  1.82510438,  1.89335281,  1.96145695,  2.0294168 ,\n        2.09723237,  2.16490364,  2.23243063,  2.29981333,  2.36705174,\n        2.43414586,  2.50109569,  2.56790123,  2.63456249,  2.70107946,\n        2.76745214,  2.83368053,  2.89976463,  2.96570444,  3.03149997,\n        3.09715121,  3.16265815,  3.22802081,  3.29323919,  3.35831327,\n        3.42324306,  3.48802857,  3.55266979,  3.61716672,  3.68151936,\n        3.74572771,  3.80979177,  3.87371155,  3.93748704,  4.00111824,\n        4.06460515,  4.12794777,  4.1911461 ,  4.25420015,  4.3171099 ,\n        4.37987537,  4.44249655,  4.50497344,  4.56730604,  4.62949436,\n        4.69153839,  4.75343812,  4.81519357,  4.87680473,  4.9382716 ,\n        4.99959419,  5.06077248,  5.12180649,  5.18269621,  5.24344164,\n        5.30404278,  5.36449963,  5.4248122 ,  5.48498048,  5.54500446,\n        5.60488416,  5.66461957,  5.7242107 ,  5.78365753,  5.84296008,\n        5.90211833,  5.9611323 ,  6.02000198,  6.07872738,  6.13730848,\n        6.19574529,  6.25403782,  6.31218606,  6.37019001,  6.42804967,\n        6.48576504,  6.54333613,  6.60076293,  6.65804543,  6.71518365,\n        6.77217758,  6.82902723,  6.88573258,  6.94229364,  6.99871042,\n        7.05498291,  7.11111111,  7.16709502,  7.22293465,  7.27862998,\n        7.33418103,  7.38958779,  7.44485026,  7.49996844,  7.55494233,\n        7.60977193,  7.66445725,  7.71899828,  7.77339502,  7.82764747,\n        7.88175563,  7.9357195 ,  7.98953909,  8.04321439,  8.09674539,\n        8.15013211,  8.20337455,  8.25647269,  8.30942654,  8.36223611,\n        8.41490139,  8.46742238,  8.51979908,  8.57203149,  8.62411962,\n        8.67606345,  8.727863  ,  8.77951826,  8.83102923,  8.88239591,\n        8.9336183 ,  8.98469641,  9.03563022,  9.08641975,  9.13706499,\n        9.18756594,  9.23792261,  9.28813498,  9.33820307,  9.38812687,\n        9.43790637,  9.4875416 ,  9.53703253,  9.58637917,  9.63558153,\n        9.68463959,  9.73355337,  9.78232286,  9.83094807,  9.87942898,\n        9.9277656 ,  9.97595794, 10.02400599, 10.07190975, 10.11966922,\n       10.1672844 , 10.2147553 , 10.2620819 , 10.30926422, 10.35630225,\n       10.40319599, 10.44994544, 10.4965506 , 10.54301148, 10.58932807,\n       10.63550037, 10.68152838, 10.7274121 , 10.77315153, 10.81874667,\n       10.86419753, 10.9095041 , 10.95466638, 10.99968437, 11.04455807,\n       11.08928749, 11.13387261, 11.17831345, 11.22261   , 11.26676226,\n       11.31077023, 11.35463391, 11.39835331, 11.44192841, 11.48535923,\n       11.52864576, 11.571788  , 11.61478596, 11.65763962, 11.700349  ,\n       11.74291409, 11.78533488, 11.8276114 , 11.86974362, 11.91173155,\n       11.9535752 , 11.99527455, 12.03682962, 12.0782404 , 12.11950689,\n       12.1606291 , 12.20160701, 12.24244064, 12.28312998, 12.32367503,\n       12.36407579, 12.40433226, 12.44444444, 12.48441234, 12.52423595,\n       12.56391527, 12.6034503 , 12.64284104, 12.68208749, 12.72118966,\n       12.76014753, 12.79896112, 12.83763042, 12.87615543, 12.91453616,\n       12.95277259, 12.99086474, 13.0288126 , 13.06661617, 13.10427545,\n       13.14179044, 13.17916114, 13.21638756, 13.25346969, 13.29040752,\n       13.32720107, 13.36385034, 13.40035531, 13.436716  , 13.47293239,\n       13.5090045 , 13.54493232, 13.58071585, 13.61635509, 13.65185005,\n       13.68720071, 13.72240709, 13.75746918, 13.79238698, 13.82716049,\n       13.86178972, 13.89627465, 13.9306153 , 13.96481166, 13.99886373,\n       14.03277151, 14.066535  , 14.10015421, 14.13362912, 14.16695975,\n       14.20014609, 14.23318814, 14.26608591, 14.29883938, 14.33144857,\n       14.36391346, 14.39623407, 14.42841039, 14.46044242, 14.49233017,\n       14.52407362, 14.55567279, 14.58712767, 14.61843826, 14.64960456,\n       14.68062657, 14.7115043 , 14.74223773, 14.77282688, 14.80327174,\n       14.83357231, 14.86372859, 14.89374059, 14.92360829, 14.95333171,\n       14.98291084, 15.01234568, 15.04163623, 15.07078249, 15.09978447,\n       15.12864216, 15.15735555, 15.18592466, 15.21434948, 15.24263002,\n       15.27076626, 15.29875822, 15.32660589, 15.35430926, 15.38186835,\n       15.40928316, 15.43655367, 15.4636799 , 15.49066183, 15.51749948,\n       15.54419284, 15.57074191, 15.5971467 , 15.62340719, 15.6495234 ,\n       15.67549532, 15.70132294, 15.72700629, 15.75254534, 15.7779401 ,\n       15.80319058, 15.82829677, 15.85325866, 15.87807627, 15.9027496 ,\n       15.92727863, 15.95166338, 15.97590383, 16.        , 16.02395188,\n       16.04775947, 16.07142277, 16.09494179, 16.11831651, 16.14154695,\n       16.1646331 , 16.18757496, 16.21037253, 16.23302582, 16.25553481,\n       16.27789952, 16.30011994, 16.32219607, 16.34412791, 16.36591547,\n       16.38755873, 16.40905771, 16.43041239, 16.45162279, 16.47268891,\n       16.49361073, 16.51438826, 16.53502151, 16.55551047, 16.57585513,\n       16.59605551, 16.61611161, 16.63602341, 16.65579093, 16.67541415,\n       16.69489309, 16.71422774, 16.7334181 , 16.75246418, 16.77136596,\n       16.79012346, 16.80873666, 16.82720558, 16.84553021, 16.86371056,\n       16.88174661, 16.89963838, 16.91738585, 16.93498904, 16.95244794,\n       16.96976256, 16.98693288, 17.00395891, 17.02084066, 17.03757812,\n       17.05417129, 17.07062017, 17.08692476, 17.10308507, 17.11910108,\n       17.13497281, 17.15070025, 17.1662834 , 17.18172226, 17.19701684,\n       17.21216712, 17.22717312, 17.24203483, 17.25675225, 17.27132538,\n       17.28575422, 17.30003878, 17.31417904, 17.32817502, 17.34202671,\n       17.35573411, 17.36929723, 17.38271605, 17.39599059, 17.40912083,\n       17.42210679, 17.43494846, 17.44764584, 17.46019894, 17.47260774,\n       17.48487226, 17.49699249, 17.50896843, 17.52080008, 17.53248744,\n       17.54403052, 17.5554293 , 17.5666838 , 17.57779401, 17.58875993,\n       17.59958156, 17.61025891, 17.62079196, 17.63118073, 17.64142521,\n       17.6515254 , 17.6614813 , 17.67129291, 17.68096024, 17.69048328,\n       17.69986202, 17.70909648, 17.71818666, 17.72713254, 17.73593413,\n       17.74459144, 17.75310446, 17.76147318, 17.76969763, 17.77777778,\n       17.78571364, 17.79350522, 17.8011525 , 17.8086555 , 17.81601421,\n       17.82322863, 17.83029877, 17.83722461, 17.84400617, 17.85064344,\n       17.85713642, 17.86348511, 17.86968951, 17.87574962, 17.88166545,\n       17.88743699, 17.89306424, 17.8985472 , 17.90388587, 17.90908025,\n       17.91413035, 17.91903615, 17.92379767, 17.9284149 , 17.93288784,\n       17.9372165 , 17.94140086, 17.94544094, 17.94933672, 17.95308822,\n       17.95669543, 17.96015836, 17.96347699, 17.96665134, 17.96968139,\n       17.97256716, 17.97530864, 17.97790583, 17.98035874, 17.98266735,\n       17.98483168, 17.98685172, 17.98872747, 17.99045893, 17.9920461 ,\n       17.99348898, 17.99478758, 17.99594189, 17.99695191, 17.99781764,\n       17.99853908, 17.99911623, 17.9995491 , 17.99983768, 17.99998196,\n       17.99998196, 17.99983768, 17.9995491 , 17.99911623, 17.99853908,\n       17.99781764, 17.99695191, 17.99594189, 17.99478758, 17.99348898,\n       17.9920461 , 17.99045893, 17.98872747, 17.98685172, 17.98483168,\n       17.98266735, 17.98035874, 17.97790583, 17.97530864, 17.97256716,\n       17.96968139, 17.96665134, 17.96347699, 17.96015836, 17.95669543,\n       17.95308822, 17.94933672, 17.94544094, 17.94140086, 17.9372165 ,\n       17.93288784, 17.9284149 , 17.92379767, 17.91903615, 17.91413035,\n       17.90908025, 17.90388587, 17.8985472 , 17.89306424, 17.88743699,\n       17.88166545, 17.87574962, 17.86968951, 17.86348511, 17.85713642,\n       17.85064344, 17.84400617, 17.83722461, 17.83029877, 17.82322863,\n       17.81601421, 17.8086555 , 17.8011525 , 17.79350522, 17.78571364,\n       17.77777778, 17.76969763, 17.76147318, 17.75310446, 17.74459144,\n       17.73593413, 17.72713254, 17.71818666, 17.70909648, 17.69986202,\n       17.69048328, 17.68096024, 17.67129291, 17.6614813 , 17.6515254 ,\n       17.64142521, 17.63118073, 17.62079196, 17.61025891, 17.59958156,\n       17.58875993, 17.57779401, 17.5666838 , 17.5554293 , 17.54403052,\n       17.53248744, 17.52080008, 17.50896843, 17.49699249, 17.48487226,\n       17.47260774, 17.46019894, 17.44764584, 17.43494846, 17.42210679,\n       17.40912083, 17.39599059, 17.38271605, 17.36929723, 17.35573411,\n       17.34202671, 17.32817502, 17.31417904, 17.30003878, 17.28575422,\n       17.27132538, 17.25675225, 17.24203483, 17.22717312, 17.21216712,\n       17.19701684, 17.18172226, 17.1662834 , 17.15070025, 17.13497281,\n       17.11910108, 17.10308507, 17.08692476, 17.07062017, 17.05417129,\n       17.03757812, 17.02084066, 17.00395891, 16.98693288, 16.96976256,\n       16.95244794, 16.93498904, 16.91738585, 16.89963838, 16.88174661,\n       16.86371056, 16.84553021, 16.82720558, 16.80873666, 16.79012346,\n       16.77136596, 16.75246418, 16.7334181 , 16.71422774, 16.69489309,\n       16.67541415, 16.65579093, 16.63602341, 16.61611161, 16.59605551,\n       16.57585513, 16.55551047, 16.53502151, 16.51438826, 16.49361073,\n       16.47268891, 16.45162279, 16.43041239, 16.40905771, 16.38755873,\n       16.36591547, 16.34412791, 16.32219607, 16.30011994, 16.27789952,\n       16.25553481, 16.23302582, 16.21037253, 16.18757496, 16.1646331 ,\n       16.14154695, 16.11831651, 16.09494179, 16.07142277, 16.04775947,\n       16.02395188, 16.        , 15.97590383, 15.95166338, 15.92727863,\n       15.9027496 , 15.87807627, 15.85325866, 15.82829677, 15.80319058,\n       15.7779401 , 15.75254534, 15.72700629, 15.70132294, 15.67549532,\n       15.6495234 , 15.62340719, 15.5971467 , 15.57074191, 15.54419284,\n       15.51749948, 15.49066183, 15.4636799 , 15.43655367, 15.40928316,\n       15.38186835, 15.35430926, 15.32660589, 15.29875822, 15.27076626,\n       15.24263002, 15.21434948, 15.18592466, 15.15735555, 15.12864216,\n       15.09978447, 15.07078249, 15.04163623, 15.01234568, 14.98291084,\n       14.95333171, 14.92360829, 14.89374059, 14.86372859, 14.83357231,\n       14.80327174, 14.77282688, 14.74223773, 14.7115043 , 14.68062657,\n       14.64960456, 14.61843826, 14.58712767, 14.55567279, 14.52407362,\n       14.49233017, 14.46044242, 14.42841039, 14.39623407, 14.36391346,\n       14.33144857, 14.29883938, 14.26608591, 14.23318814, 14.20014609,\n       14.16695975, 14.13362912, 14.10015421, 14.066535  , 14.03277151,\n       13.99886373, 13.96481166, 13.9306153 , 13.89627465, 13.86178972,\n       13.82716049, 13.79238698, 13.75746918, 13.72240709, 13.68720071,\n       13.65185005, 13.61635509, 13.58071585, 13.54493232, 13.5090045 ,\n       13.47293239, 13.436716  , 13.40035531, 13.36385034, 13.32720107,\n       13.29040752, 13.25346969, 13.21638756, 13.17916114, 13.14179044,\n       13.10427545, 13.06661617, 13.0288126 , 12.99086474, 12.95277259,\n       12.91453616, 12.87615543, 12.83763042, 12.79896112, 12.76014753,\n       12.72118966, 12.68208749, 12.64284104, 12.6034503 , 12.56391527,\n       12.52423595, 12.48441234, 12.44444444, 12.40433226, 12.36407579,\n       12.32367503, 12.28312998, 12.24244064, 12.20160701, 12.1606291 ,\n       12.11950689, 12.0782404 , 12.03682962, 11.99527455, 11.9535752 ,\n       11.91173155, 11.86974362, 11.8276114 , 11.78533488, 11.74291409,\n       11.700349  , 11.65763962, 11.61478596, 11.571788  , 11.52864576,\n       11.48535923, 11.44192841, 11.39835331, 11.35463391, 11.31077023,\n       11.26676226, 11.22261   , 11.17831345, 11.13387261, 11.08928749,\n       11.04455807, 10.99968437, 10.95466638, 10.9095041 , 10.86419753,\n       10.81874667, 10.77315153, 10.7274121 , 10.68152838, 10.63550037,\n       10.58932807, 10.54301148, 10.4965506 , 10.44994544, 10.40319599,\n       10.35630225, 10.30926422, 10.2620819 , 10.2147553 , 10.1672844 ,\n       10.11966922, 10.07190975, 10.02400599,  9.97595794,  9.9277656 ,\n        9.87942898,  9.83094807,  9.78232286,  9.73355337,  9.68463959,\n        9.63558153,  9.58637917,  9.53703253,  9.4875416 ,  9.43790637,\n        9.38812687,  9.33820307,  9.28813498,  9.23792261,  9.18756594,\n        9.13706499,  9.08641975,  9.03563022,  8.98469641,  8.9336183 ,\n        8.88239591,  8.83102923,  8.77951826,  8.727863  ,  8.67606345,\n        8.62411962,  8.57203149,  8.51979908,  8.46742238,  8.41490139,\n        8.36223611,  8.30942654,  8.25647269,  8.20337455,  8.15013211,\n        8.09674539,  8.04321439,  7.98953909,  7.9357195 ,  7.88175563,\n        7.82764747,  7.77339502,  7.71899828,  7.66445725,  7.60977193,\n        7.55494233,  7.49996844,  7.44485026,  7.38958779,  7.33418103,\n        7.27862998,  7.22293465,  7.16709502,  7.11111111,  7.05498291,\n        6.99871042,  6.94229364,  6.88573258,  6.82902723,  6.77217758,\n        6.71518365,  6.65804543,  6.60076293,  6.54333613,  6.48576504,\n        6.42804967,  6.37019001,  6.31218606,  6.25403782,  6.19574529,\n        6.13730848,  6.07872738,  6.02000198,  5.9611323 ,  5.90211833,\n        5.84296008,  5.78365753,  5.7242107 ,  5.66461957,  5.60488416,\n        5.54500446,  5.48498048,  5.4248122 ,  5.36449963,  5.30404278,\n        5.24344164,  5.18269621,  5.12180649,  5.06077248,  4.99959419,\n        4.9382716 ,  4.87680473,  4.81519357,  4.75343812,  4.69153839,\n        4.62949436,  4.56730604,  4.50497344,  4.44249655,  4.37987537,\n        4.3171099 ,  4.25420015,  4.1911461 ,  4.12794777,  4.06460515,\n        4.00111824,  3.93748704,  3.87371155,  3.80979177,  3.74572771,\n        3.68151936,  3.61716672,  3.55266979,  3.48802857,  3.42324306,\n        3.35831327,  3.29323919,  3.22802081,  3.16265815,  3.09715121,\n        3.03149997,  2.96570444,  2.89976463,  2.83368053,  2.76745214,\n        2.70107946,  2.63456249,  2.56790123,  2.50109569,  2.43414586,\n        2.36705174,  2.29981333,  2.23243063,  2.16490364,  2.09723237,\n        2.0294168 ,  1.96145695,  1.89335281,  1.82510438,  1.75671167,\n        1.68817466,  1.61949337,  1.55066778,  1.48169791,  1.41258375,\n        1.34332531,  1.27392257,  1.20437555,  1.13468423,  1.06484863,\n        0.99486874,  0.92474456,  0.8544761 ,  0.78406334,  0.7135063 ,\n        0.64280497,  0.57195935,  0.50096944,  0.42983524,  0.35855675,\n        0.28713398,  0.21556692,  0.14385557,  0.07199993,  0.        ])",
     "output_type": "error",
     "traceback": [
      "\u001b[1;31m---------------------------------------------------------------------------\u001b[0m",
      "\u001b[1;31mTypeError\u001b[0m                                 Traceback (most recent call last)",
      "\u001b[1;32m~\\anaconda3\\lib\\site-packages\\sympy\\core\\cache.py\u001b[0m in \u001b[0;36mwrapper\u001b[1;34m(*args, **kwargs)\u001b[0m\n\u001b[0;32m     69\u001b[0m             \u001b[1;32mtry\u001b[0m\u001b[1;33m:\u001b[0m\u001b[1;33m\u001b[0m\u001b[1;33m\u001b[0m\u001b[0m\n\u001b[1;32m---> 70\u001b[1;33m                 \u001b[0mretval\u001b[0m \u001b[1;33m=\u001b[0m \u001b[0mcfunc\u001b[0m\u001b[1;33m(\u001b[0m\u001b[1;33m*\u001b[0m\u001b[0margs\u001b[0m\u001b[1;33m,\u001b[0m \u001b[1;33m**\u001b[0m\u001b[0mkwargs\u001b[0m\u001b[1;33m)\u001b[0m\u001b[1;33m\u001b[0m\u001b[1;33m\u001b[0m\u001b[0m\n\u001b[0m\u001b[0;32m     71\u001b[0m             \u001b[1;32mexcept\u001b[0m \u001b[0mTypeError\u001b[0m \u001b[1;32mas\u001b[0m \u001b[0me\u001b[0m\u001b[1;33m:\u001b[0m\u001b[1;33m\u001b[0m\u001b[1;33m\u001b[0m\u001b[0m\n",
      "\u001b[1;31mTypeError\u001b[0m: unhashable type: 'numpy.ndarray'",
      "\nDuring handling of the above exception, another exception occurred:\n",
      "\u001b[1;31mSympifyError\u001b[0m                              Traceback (most recent call last)",
      "\u001b[1;32m~\\AppData\\Local\\Temp\\ipykernel_22444\\54820408.py\u001b[0m in \u001b[0;36m<module>\u001b[1;34m\u001b[0m\n\u001b[0;32m      1\u001b[0m \u001b[0mx3n\u001b[0m\u001b[1;33m=\u001b[0m\u001b[0mnp\u001b[0m\u001b[1;33m.\u001b[0m\u001b[0mlinspace\u001b[0m\u001b[1;33m(\u001b[0m\u001b[1;33m-\u001b[0m\u001b[1;36m3\u001b[0m\u001b[1;33m,\u001b[0m\u001b[1;36m3\u001b[0m\u001b[1;33m,\u001b[0m\u001b[1;36m1000\u001b[0m\u001b[1;33m)\u001b[0m\u001b[1;33m\u001b[0m\u001b[1;33m\u001b[0m\u001b[0m\n\u001b[1;32m----> 2\u001b[1;33m \u001b[0my3n\u001b[0m\u001b[1;33m=\u001b[0m\u001b[0mf3\u001b[0m\u001b[1;33m(\u001b[0m\u001b[0mx3n\u001b[0m\u001b[1;33m)\u001b[0m\u001b[1;33m\u001b[0m\u001b[1;33m\u001b[0m\u001b[0m\n\u001b[0m\u001b[0;32m      3\u001b[0m \u001b[0msp\u001b[0m\u001b[1;33m.\u001b[0m\u001b[0mvar\u001b[0m\u001b[1;33m(\u001b[0m\u001b[1;34m\"x\"\u001b[0m\u001b[1;33m)\u001b[0m\u001b[1;33m\u001b[0m\u001b[1;33m\u001b[0m\u001b[0m\n\u001b[0;32m      4\u001b[0m \u001b[1;32mdef\u001b[0m \u001b[0mdf3\u001b[0m\u001b[1;33m(\u001b[0m\u001b[0mx\u001b[0m\u001b[1;33m)\u001b[0m\u001b[1;33m:\u001b[0m\u001b[1;33m\u001b[0m\u001b[1;33m\u001b[0m\u001b[0m\n\u001b[0;32m      5\u001b[0m     \u001b[1;32mreturn\u001b[0m \u001b[1;33m-\u001b[0m\u001b[1;36m2\u001b[0m\u001b[1;33m*\u001b[0m\u001b[0mx\u001b[0m\u001b[1;33m/\u001b[0m\u001b[1;33m(\u001b[0m\u001b[0msp\u001b[0m\u001b[1;33m.\u001b[0m\u001b[0msqrt\u001b[0m\u001b[1;33m(\u001b[0m\u001b[1;36m18\u001b[0m\u001b[1;33m-\u001b[0m\u001b[1;36m2\u001b[0m\u001b[1;33m*\u001b[0m\u001b[0mx\u001b[0m\u001b[1;33m**\u001b[0m\u001b[1;36m2\u001b[0m\u001b[1;33m)\u001b[0m\u001b[1;33m)\u001b[0m\u001b[1;33m-\u001b[0m\u001b[1;36m2\u001b[0m\u001b[1;33m\u001b[0m\u001b[1;33m\u001b[0m\u001b[0m\n",
      "\u001b[1;32m~\\AppData\\Local\\Temp\\ipykernel_22444\\3252641612.py\u001b[0m in \u001b[0;36mf3\u001b[1;34m(x)\u001b[0m\n\u001b[0;32m      2\u001b[0m \u001b[1;31m#Función Original\u001b[0m\u001b[1;33m\u001b[0m\u001b[1;33m\u001b[0m\u001b[0m\n\u001b[0;32m      3\u001b[0m \u001b[1;32mdef\u001b[0m \u001b[0mf3\u001b[0m\u001b[1;33m(\u001b[0m\u001b[0mx\u001b[0m\u001b[1;33m)\u001b[0m\u001b[1;33m:\u001b[0m\u001b[1;33m\u001b[0m\u001b[1;33m\u001b[0m\u001b[0m\n\u001b[1;32m----> 4\u001b[1;33m     \u001b[1;32mreturn\u001b[0m \u001b[1;36m6\u001b[0m\u001b[1;33m-\u001b[0m\u001b[1;36m2\u001b[0m\u001b[1;33m*\u001b[0m\u001b[0mx\u001b[0m\u001b[1;33m+\u001b[0m\u001b[0msp\u001b[0m\u001b[1;33m.\u001b[0m\u001b[0msqrt\u001b[0m\u001b[1;33m(\u001b[0m\u001b[1;36m18\u001b[0m\u001b[1;33m-\u001b[0m\u001b[1;36m2\u001b[0m\u001b[1;33m*\u001b[0m\u001b[0mx\u001b[0m\u001b[1;33m**\u001b[0m\u001b[1;36m2\u001b[0m\u001b[1;33m)\u001b[0m\u001b[1;33m\u001b[0m\u001b[1;33m\u001b[0m\u001b[0m\n\u001b[0m\u001b[0;32m      5\u001b[0m \u001b[1;31m#Primera Derivada\u001b[0m\u001b[1;33m\u001b[0m\u001b[1;33m\u001b[0m\u001b[0m\n\u001b[0;32m      6\u001b[0m \u001b[0mdf3\u001b[0m\u001b[1;33m=\u001b[0m\u001b[0msp\u001b[0m\u001b[1;33m.\u001b[0m\u001b[0mdiff\u001b[0m\u001b[1;33m(\u001b[0m\u001b[0mf3\u001b[0m\u001b[1;33m(\u001b[0m\u001b[0mx\u001b[0m\u001b[1;33m)\u001b[0m\u001b[1;33m,\u001b[0m\u001b[0mx\u001b[0m\u001b[1;33m)\u001b[0m\u001b[1;33m\u001b[0m\u001b[1;33m\u001b[0m\u001b[0m\n",
      "\u001b[1;32m~\\anaconda3\\lib\\site-packages\\sympy\\functions\\elementary\\miscellaneous.py\u001b[0m in \u001b[0;36msqrt\u001b[1;34m(arg, evaluate)\u001b[0m\n\u001b[0;32m    152\u001b[0m     \"\"\"\n\u001b[0;32m    153\u001b[0m     \u001b[1;31m# arg = sympify(arg) is handled by Pow\u001b[0m\u001b[1;33m\u001b[0m\u001b[1;33m\u001b[0m\u001b[0m\n\u001b[1;32m--> 154\u001b[1;33m     \u001b[1;32mreturn\u001b[0m \u001b[0mPow\u001b[0m\u001b[1;33m(\u001b[0m\u001b[0marg\u001b[0m\u001b[1;33m,\u001b[0m \u001b[0mS\u001b[0m\u001b[1;33m.\u001b[0m\u001b[0mHalf\u001b[0m\u001b[1;33m,\u001b[0m \u001b[0mevaluate\u001b[0m\u001b[1;33m=\u001b[0m\u001b[0mevaluate\u001b[0m\u001b[1;33m)\u001b[0m\u001b[1;33m\u001b[0m\u001b[1;33m\u001b[0m\u001b[0m\n\u001b[0m\u001b[0;32m    155\u001b[0m \u001b[1;33m\u001b[0m\u001b[0m\n\u001b[0;32m    156\u001b[0m \u001b[1;33m\u001b[0m\u001b[0m\n",
      "\u001b[1;32m~\\anaconda3\\lib\\site-packages\\sympy\\core\\cache.py\u001b[0m in \u001b[0;36mwrapper\u001b[1;34m(*args, **kwargs)\u001b[0m\n\u001b[0;32m     72\u001b[0m                 \u001b[1;32mif\u001b[0m \u001b[1;32mnot\u001b[0m \u001b[0me\u001b[0m\u001b[1;33m.\u001b[0m\u001b[0margs\u001b[0m \u001b[1;32mor\u001b[0m \u001b[1;32mnot\u001b[0m \u001b[0me\u001b[0m\u001b[1;33m.\u001b[0m\u001b[0margs\u001b[0m\u001b[1;33m[\u001b[0m\u001b[1;36m0\u001b[0m\u001b[1;33m]\u001b[0m\u001b[1;33m.\u001b[0m\u001b[0mstartswith\u001b[0m\u001b[1;33m(\u001b[0m\u001b[1;34m'unhashable type:'\u001b[0m\u001b[1;33m)\u001b[0m\u001b[1;33m:\u001b[0m\u001b[1;33m\u001b[0m\u001b[1;33m\u001b[0m\u001b[0m\n\u001b[0;32m     73\u001b[0m                     \u001b[1;32mraise\u001b[0m\u001b[1;33m\u001b[0m\u001b[1;33m\u001b[0m\u001b[0m\n\u001b[1;32m---> 74\u001b[1;33m                 \u001b[0mretval\u001b[0m \u001b[1;33m=\u001b[0m \u001b[0mfunc\u001b[0m\u001b[1;33m(\u001b[0m\u001b[1;33m*\u001b[0m\u001b[0margs\u001b[0m\u001b[1;33m,\u001b[0m \u001b[1;33m**\u001b[0m\u001b[0mkwargs\u001b[0m\u001b[1;33m)\u001b[0m\u001b[1;33m\u001b[0m\u001b[1;33m\u001b[0m\u001b[0m\n\u001b[0m\u001b[0;32m     75\u001b[0m             \u001b[1;32mreturn\u001b[0m \u001b[0mretval\u001b[0m\u001b[1;33m\u001b[0m\u001b[1;33m\u001b[0m\u001b[0m\n\u001b[0;32m     76\u001b[0m \u001b[1;33m\u001b[0m\u001b[0m\n",
      "\u001b[1;32m~\\anaconda3\\lib\\site-packages\\sympy\\core\\power.py\u001b[0m in \u001b[0;36m__new__\u001b[1;34m(cls, b, e, evaluate)\u001b[0m\n\u001b[0;32m    284\u001b[0m         \u001b[1;32mfrom\u001b[0m \u001b[0msympy\u001b[0m\u001b[1;33m.\u001b[0m\u001b[0mfunctions\u001b[0m\u001b[1;33m.\u001b[0m\u001b[0melementary\u001b[0m\u001b[1;33m.\u001b[0m\u001b[0mexponential\u001b[0m \u001b[1;32mimport\u001b[0m \u001b[0mexp_polar\u001b[0m\u001b[1;33m\u001b[0m\u001b[1;33m\u001b[0m\u001b[0m\n\u001b[0;32m    285\u001b[0m \u001b[1;33m\u001b[0m\u001b[0m\n\u001b[1;32m--> 286\u001b[1;33m         \u001b[0mb\u001b[0m \u001b[1;33m=\u001b[0m \u001b[0m_sympify\u001b[0m\u001b[1;33m(\u001b[0m\u001b[0mb\u001b[0m\u001b[1;33m)\u001b[0m\u001b[1;33m\u001b[0m\u001b[1;33m\u001b[0m\u001b[0m\n\u001b[0m\u001b[0;32m    287\u001b[0m         \u001b[0me\u001b[0m \u001b[1;33m=\u001b[0m \u001b[0m_sympify\u001b[0m\u001b[1;33m(\u001b[0m\u001b[0me\u001b[0m\u001b[1;33m)\u001b[0m\u001b[1;33m\u001b[0m\u001b[1;33m\u001b[0m\u001b[0m\n\u001b[0;32m    288\u001b[0m \u001b[1;33m\u001b[0m\u001b[0m\n",
      "\u001b[1;32m~\\anaconda3\\lib\\site-packages\\sympy\\core\\sympify.py\u001b[0m in \u001b[0;36m_sympify\u001b[1;34m(a)\u001b[0m\n\u001b[0;32m    526\u001b[0m \u001b[1;33m\u001b[0m\u001b[0m\n\u001b[0;32m    527\u001b[0m     \"\"\"\n\u001b[1;32m--> 528\u001b[1;33m     \u001b[1;32mreturn\u001b[0m \u001b[0msympify\u001b[0m\u001b[1;33m(\u001b[0m\u001b[0ma\u001b[0m\u001b[1;33m,\u001b[0m \u001b[0mstrict\u001b[0m\u001b[1;33m=\u001b[0m\u001b[1;32mTrue\u001b[0m\u001b[1;33m)\u001b[0m\u001b[1;33m\u001b[0m\u001b[1;33m\u001b[0m\u001b[0m\n\u001b[0m\u001b[0;32m    529\u001b[0m \u001b[1;33m\u001b[0m\u001b[0m\n\u001b[0;32m    530\u001b[0m \u001b[1;33m\u001b[0m\u001b[0m\n",
      "\u001b[1;32m~\\anaconda3\\lib\\site-packages\\sympy\\core\\sympify.py\u001b[0m in \u001b[0;36msympify\u001b[1;34m(a, locals, convert_xor, strict, rational, evaluate)\u001b[0m\n\u001b[0;32m    447\u001b[0m \u001b[1;33m\u001b[0m\u001b[0m\n\u001b[0;32m    448\u001b[0m     \u001b[1;32mif\u001b[0m \u001b[0mstrict\u001b[0m\u001b[1;33m:\u001b[0m\u001b[1;33m\u001b[0m\u001b[1;33m\u001b[0m\u001b[0m\n\u001b[1;32m--> 449\u001b[1;33m         \u001b[1;32mraise\u001b[0m \u001b[0mSympifyError\u001b[0m\u001b[1;33m(\u001b[0m\u001b[0ma\u001b[0m\u001b[1;33m)\u001b[0m\u001b[1;33m\u001b[0m\u001b[1;33m\u001b[0m\u001b[0m\n\u001b[0m\u001b[0;32m    450\u001b[0m \u001b[1;33m\u001b[0m\u001b[0m\n\u001b[0;32m    451\u001b[0m     \u001b[1;32mif\u001b[0m \u001b[0miterable\u001b[0m\u001b[1;33m(\u001b[0m\u001b[0ma\u001b[0m\u001b[1;33m)\u001b[0m\u001b[1;33m:\u001b[0m\u001b[1;33m\u001b[0m\u001b[1;33m\u001b[0m\u001b[0m\n",
      "\u001b[1;31mSympifyError\u001b[0m: SympifyError: array([ 0.        ,  0.07199993,  0.14385557,  0.21556692,  0.28713398,\n        0.35855675,  0.42983524,  0.50096944,  0.57195935,  0.64280497,\n        0.7135063 ,  0.78406334,  0.8544761 ,  0.92474456,  0.99486874,\n        1.06484863,  1.13468423,  1.20437555,  1.27392257,  1.34332531,\n        1.41258375,  1.48169791,  1.55066778,  1.61949337,  1.68817466,\n        1.75671167,  1.82510438,  1.89335281,  1.96145695,  2.0294168 ,\n        2.09723237,  2.16490364,  2.23243063,  2.29981333,  2.36705174,\n        2.43414586,  2.50109569,  2.56790123,  2.63456249,  2.70107946,\n        2.76745214,  2.83368053,  2.89976463,  2.96570444,  3.03149997,\n        3.09715121,  3.16265815,  3.22802081,  3.29323919,  3.35831327,\n        3.42324306,  3.48802857,  3.55266979,  3.61716672,  3.68151936,\n        3.74572771,  3.80979177,  3.87371155,  3.93748704,  4.00111824,\n        4.06460515,  4.12794777,  4.1911461 ,  4.25420015,  4.3171099 ,\n        4.37987537,  4.44249655,  4.50497344,  4.56730604,  4.62949436,\n        4.69153839,  4.75343812,  4.81519357,  4.87680473,  4.9382716 ,\n        4.99959419,  5.06077248,  5.12180649,  5.18269621,  5.24344164,\n        5.30404278,  5.36449963,  5.4248122 ,  5.48498048,  5.54500446,\n        5.60488416,  5.66461957,  5.7242107 ,  5.78365753,  5.84296008,\n        5.90211833,  5.9611323 ,  6.02000198,  6.07872738,  6.13730848,\n        6.19574529,  6.25403782,  6.31218606,  6.37019001,  6.42804967,\n        6.48576504,  6.54333613,  6.60076293,  6.65804543,  6.71518365,\n        6.77217758,  6.82902723,  6.88573258,  6.94229364,  6.99871042,\n        7.05498291,  7.11111111,  7.16709502,  7.22293465,  7.27862998,\n        7.33418103,  7.38958779,  7.44485026,  7.49996844,  7.55494233,\n        7.60977193,  7.66445725,  7.71899828,  7.77339502,  7.82764747,\n        7.88175563,  7.9357195 ,  7.98953909,  8.04321439,  8.09674539,\n        8.15013211,  8.20337455,  8.25647269,  8.30942654,  8.36223611,\n        8.41490139,  8.46742238,  8.51979908,  8.57203149,  8.62411962,\n        8.67606345,  8.727863  ,  8.77951826,  8.83102923,  8.88239591,\n        8.9336183 ,  8.98469641,  9.03563022,  9.08641975,  9.13706499,\n        9.18756594,  9.23792261,  9.28813498,  9.33820307,  9.38812687,\n        9.43790637,  9.4875416 ,  9.53703253,  9.58637917,  9.63558153,\n        9.68463959,  9.73355337,  9.78232286,  9.83094807,  9.87942898,\n        9.9277656 ,  9.97595794, 10.02400599, 10.07190975, 10.11966922,\n       10.1672844 , 10.2147553 , 10.2620819 , 10.30926422, 10.35630225,\n       10.40319599, 10.44994544, 10.4965506 , 10.54301148, 10.58932807,\n       10.63550037, 10.68152838, 10.7274121 , 10.77315153, 10.81874667,\n       10.86419753, 10.9095041 , 10.95466638, 10.99968437, 11.04455807,\n       11.08928749, 11.13387261, 11.17831345, 11.22261   , 11.26676226,\n       11.31077023, 11.35463391, 11.39835331, 11.44192841, 11.48535923,\n       11.52864576, 11.571788  , 11.61478596, 11.65763962, 11.700349  ,\n       11.74291409, 11.78533488, 11.8276114 , 11.86974362, 11.91173155,\n       11.9535752 , 11.99527455, 12.03682962, 12.0782404 , 12.11950689,\n       12.1606291 , 12.20160701, 12.24244064, 12.28312998, 12.32367503,\n       12.36407579, 12.40433226, 12.44444444, 12.48441234, 12.52423595,\n       12.56391527, 12.6034503 , 12.64284104, 12.68208749, 12.72118966,\n       12.76014753, 12.79896112, 12.83763042, 12.87615543, 12.91453616,\n       12.95277259, 12.99086474, 13.0288126 , 13.06661617, 13.10427545,\n       13.14179044, 13.17916114, 13.21638756, 13.25346969, 13.29040752,\n       13.32720107, 13.36385034, 13.40035531, 13.436716  , 13.47293239,\n       13.5090045 , 13.54493232, 13.58071585, 13.61635509, 13.65185005,\n       13.68720071, 13.72240709, 13.75746918, 13.79238698, 13.82716049,\n       13.86178972, 13.89627465, 13.9306153 , 13.96481166, 13.99886373,\n       14.03277151, 14.066535  , 14.10015421, 14.13362912, 14.16695975,\n       14.20014609, 14.23318814, 14.26608591, 14.29883938, 14.33144857,\n       14.36391346, 14.39623407, 14.42841039, 14.46044242, 14.49233017,\n       14.52407362, 14.55567279, 14.58712767, 14.61843826, 14.64960456,\n       14.68062657, 14.7115043 , 14.74223773, 14.77282688, 14.80327174,\n       14.83357231, 14.86372859, 14.89374059, 14.92360829, 14.95333171,\n       14.98291084, 15.01234568, 15.04163623, 15.07078249, 15.09978447,\n       15.12864216, 15.15735555, 15.18592466, 15.21434948, 15.24263002,\n       15.27076626, 15.29875822, 15.32660589, 15.35430926, 15.38186835,\n       15.40928316, 15.43655367, 15.4636799 , 15.49066183, 15.51749948,\n       15.54419284, 15.57074191, 15.5971467 , 15.62340719, 15.6495234 ,\n       15.67549532, 15.70132294, 15.72700629, 15.75254534, 15.7779401 ,\n       15.80319058, 15.82829677, 15.85325866, 15.87807627, 15.9027496 ,\n       15.92727863, 15.95166338, 15.97590383, 16.        , 16.02395188,\n       16.04775947, 16.07142277, 16.09494179, 16.11831651, 16.14154695,\n       16.1646331 , 16.18757496, 16.21037253, 16.23302582, 16.25553481,\n       16.27789952, 16.30011994, 16.32219607, 16.34412791, 16.36591547,\n       16.38755873, 16.40905771, 16.43041239, 16.45162279, 16.47268891,\n       16.49361073, 16.51438826, 16.53502151, 16.55551047, 16.57585513,\n       16.59605551, 16.61611161, 16.63602341, 16.65579093, 16.67541415,\n       16.69489309, 16.71422774, 16.7334181 , 16.75246418, 16.77136596,\n       16.79012346, 16.80873666, 16.82720558, 16.84553021, 16.86371056,\n       16.88174661, 16.89963838, 16.91738585, 16.93498904, 16.95244794,\n       16.96976256, 16.98693288, 17.00395891, 17.02084066, 17.03757812,\n       17.05417129, 17.07062017, 17.08692476, 17.10308507, 17.11910108,\n       17.13497281, 17.15070025, 17.1662834 , 17.18172226, 17.19701684,\n       17.21216712, 17.22717312, 17.24203483, 17.25675225, 17.27132538,\n       17.28575422, 17.30003878, 17.31417904, 17.32817502, 17.34202671,\n       17.35573411, 17.36929723, 17.38271605, 17.39599059, 17.40912083,\n       17.42210679, 17.43494846, 17.44764584, 17.46019894, 17.47260774,\n       17.48487226, 17.49699249, 17.50896843, 17.52080008, 17.53248744,\n       17.54403052, 17.5554293 , 17.5666838 , 17.57779401, 17.58875993,\n       17.59958156, 17.61025891, 17.62079196, 17.63118073, 17.64142521,\n       17.6515254 , 17.6614813 , 17.67129291, 17.68096024, 17.69048328,\n       17.69986202, 17.70909648, 17.71818666, 17.72713254, 17.73593413,\n       17.74459144, 17.75310446, 17.76147318, 17.76969763, 17.77777778,\n       17.78571364, 17.79350522, 17.8011525 , 17.8086555 , 17.81601421,\n       17.82322863, 17.83029877, 17.83722461, 17.84400617, 17.85064344,\n       17.85713642, 17.86348511, 17.86968951, 17.87574962, 17.88166545,\n       17.88743699, 17.89306424, 17.8985472 , 17.90388587, 17.90908025,\n       17.91413035, 17.91903615, 17.92379767, 17.9284149 , 17.93288784,\n       17.9372165 , 17.94140086, 17.94544094, 17.94933672, 17.95308822,\n       17.95669543, 17.96015836, 17.96347699, 17.96665134, 17.96968139,\n       17.97256716, 17.97530864, 17.97790583, 17.98035874, 17.98266735,\n       17.98483168, 17.98685172, 17.98872747, 17.99045893, 17.9920461 ,\n       17.99348898, 17.99478758, 17.99594189, 17.99695191, 17.99781764,\n       17.99853908, 17.99911623, 17.9995491 , 17.99983768, 17.99998196,\n       17.99998196, 17.99983768, 17.9995491 , 17.99911623, 17.99853908,\n       17.99781764, 17.99695191, 17.99594189, 17.99478758, 17.99348898,\n       17.9920461 , 17.99045893, 17.98872747, 17.98685172, 17.98483168,\n       17.98266735, 17.98035874, 17.97790583, 17.97530864, 17.97256716,\n       17.96968139, 17.96665134, 17.96347699, 17.96015836, 17.95669543,\n       17.95308822, 17.94933672, 17.94544094, 17.94140086, 17.9372165 ,\n       17.93288784, 17.9284149 , 17.92379767, 17.91903615, 17.91413035,\n       17.90908025, 17.90388587, 17.8985472 , 17.89306424, 17.88743699,\n       17.88166545, 17.87574962, 17.86968951, 17.86348511, 17.85713642,\n       17.85064344, 17.84400617, 17.83722461, 17.83029877, 17.82322863,\n       17.81601421, 17.8086555 , 17.8011525 , 17.79350522, 17.78571364,\n       17.77777778, 17.76969763, 17.76147318, 17.75310446, 17.74459144,\n       17.73593413, 17.72713254, 17.71818666, 17.70909648, 17.69986202,\n       17.69048328, 17.68096024, 17.67129291, 17.6614813 , 17.6515254 ,\n       17.64142521, 17.63118073, 17.62079196, 17.61025891, 17.59958156,\n       17.58875993, 17.57779401, 17.5666838 , 17.5554293 , 17.54403052,\n       17.53248744, 17.52080008, 17.50896843, 17.49699249, 17.48487226,\n       17.47260774, 17.46019894, 17.44764584, 17.43494846, 17.42210679,\n       17.40912083, 17.39599059, 17.38271605, 17.36929723, 17.35573411,\n       17.34202671, 17.32817502, 17.31417904, 17.30003878, 17.28575422,\n       17.27132538, 17.25675225, 17.24203483, 17.22717312, 17.21216712,\n       17.19701684, 17.18172226, 17.1662834 , 17.15070025, 17.13497281,\n       17.11910108, 17.10308507, 17.08692476, 17.07062017, 17.05417129,\n       17.03757812, 17.02084066, 17.00395891, 16.98693288, 16.96976256,\n       16.95244794, 16.93498904, 16.91738585, 16.89963838, 16.88174661,\n       16.86371056, 16.84553021, 16.82720558, 16.80873666, 16.79012346,\n       16.77136596, 16.75246418, 16.7334181 , 16.71422774, 16.69489309,\n       16.67541415, 16.65579093, 16.63602341, 16.61611161, 16.59605551,\n       16.57585513, 16.55551047, 16.53502151, 16.51438826, 16.49361073,\n       16.47268891, 16.45162279, 16.43041239, 16.40905771, 16.38755873,\n       16.36591547, 16.34412791, 16.32219607, 16.30011994, 16.27789952,\n       16.25553481, 16.23302582, 16.21037253, 16.18757496, 16.1646331 ,\n       16.14154695, 16.11831651, 16.09494179, 16.07142277, 16.04775947,\n       16.02395188, 16.        , 15.97590383, 15.95166338, 15.92727863,\n       15.9027496 , 15.87807627, 15.85325866, 15.82829677, 15.80319058,\n       15.7779401 , 15.75254534, 15.72700629, 15.70132294, 15.67549532,\n       15.6495234 , 15.62340719, 15.5971467 , 15.57074191, 15.54419284,\n       15.51749948, 15.49066183, 15.4636799 , 15.43655367, 15.40928316,\n       15.38186835, 15.35430926, 15.32660589, 15.29875822, 15.27076626,\n       15.24263002, 15.21434948, 15.18592466, 15.15735555, 15.12864216,\n       15.09978447, 15.07078249, 15.04163623, 15.01234568, 14.98291084,\n       14.95333171, 14.92360829, 14.89374059, 14.86372859, 14.83357231,\n       14.80327174, 14.77282688, 14.74223773, 14.7115043 , 14.68062657,\n       14.64960456, 14.61843826, 14.58712767, 14.55567279, 14.52407362,\n       14.49233017, 14.46044242, 14.42841039, 14.39623407, 14.36391346,\n       14.33144857, 14.29883938, 14.26608591, 14.23318814, 14.20014609,\n       14.16695975, 14.13362912, 14.10015421, 14.066535  , 14.03277151,\n       13.99886373, 13.96481166, 13.9306153 , 13.89627465, 13.86178972,\n       13.82716049, 13.79238698, 13.75746918, 13.72240709, 13.68720071,\n       13.65185005, 13.61635509, 13.58071585, 13.54493232, 13.5090045 ,\n       13.47293239, 13.436716  , 13.40035531, 13.36385034, 13.32720107,\n       13.29040752, 13.25346969, 13.21638756, 13.17916114, 13.14179044,\n       13.10427545, 13.06661617, 13.0288126 , 12.99086474, 12.95277259,\n       12.91453616, 12.87615543, 12.83763042, 12.79896112, 12.76014753,\n       12.72118966, 12.68208749, 12.64284104, 12.6034503 , 12.56391527,\n       12.52423595, 12.48441234, 12.44444444, 12.40433226, 12.36407579,\n       12.32367503, 12.28312998, 12.24244064, 12.20160701, 12.1606291 ,\n       12.11950689, 12.0782404 , 12.03682962, 11.99527455, 11.9535752 ,\n       11.91173155, 11.86974362, 11.8276114 , 11.78533488, 11.74291409,\n       11.700349  , 11.65763962, 11.61478596, 11.571788  , 11.52864576,\n       11.48535923, 11.44192841, 11.39835331, 11.35463391, 11.31077023,\n       11.26676226, 11.22261   , 11.17831345, 11.13387261, 11.08928749,\n       11.04455807, 10.99968437, 10.95466638, 10.9095041 , 10.86419753,\n       10.81874667, 10.77315153, 10.7274121 , 10.68152838, 10.63550037,\n       10.58932807, 10.54301148, 10.4965506 , 10.44994544, 10.40319599,\n       10.35630225, 10.30926422, 10.2620819 , 10.2147553 , 10.1672844 ,\n       10.11966922, 10.07190975, 10.02400599,  9.97595794,  9.9277656 ,\n        9.87942898,  9.83094807,  9.78232286,  9.73355337,  9.68463959,\n        9.63558153,  9.58637917,  9.53703253,  9.4875416 ,  9.43790637,\n        9.38812687,  9.33820307,  9.28813498,  9.23792261,  9.18756594,\n        9.13706499,  9.08641975,  9.03563022,  8.98469641,  8.9336183 ,\n        8.88239591,  8.83102923,  8.77951826,  8.727863  ,  8.67606345,\n        8.62411962,  8.57203149,  8.51979908,  8.46742238,  8.41490139,\n        8.36223611,  8.30942654,  8.25647269,  8.20337455,  8.15013211,\n        8.09674539,  8.04321439,  7.98953909,  7.9357195 ,  7.88175563,\n        7.82764747,  7.77339502,  7.71899828,  7.66445725,  7.60977193,\n        7.55494233,  7.49996844,  7.44485026,  7.38958779,  7.33418103,\n        7.27862998,  7.22293465,  7.16709502,  7.11111111,  7.05498291,\n        6.99871042,  6.94229364,  6.88573258,  6.82902723,  6.77217758,\n        6.71518365,  6.65804543,  6.60076293,  6.54333613,  6.48576504,\n        6.42804967,  6.37019001,  6.31218606,  6.25403782,  6.19574529,\n        6.13730848,  6.07872738,  6.02000198,  5.9611323 ,  5.90211833,\n        5.84296008,  5.78365753,  5.7242107 ,  5.66461957,  5.60488416,\n        5.54500446,  5.48498048,  5.4248122 ,  5.36449963,  5.30404278,\n        5.24344164,  5.18269621,  5.12180649,  5.06077248,  4.99959419,\n        4.9382716 ,  4.87680473,  4.81519357,  4.75343812,  4.69153839,\n        4.62949436,  4.56730604,  4.50497344,  4.44249655,  4.37987537,\n        4.3171099 ,  4.25420015,  4.1911461 ,  4.12794777,  4.06460515,\n        4.00111824,  3.93748704,  3.87371155,  3.80979177,  3.74572771,\n        3.68151936,  3.61716672,  3.55266979,  3.48802857,  3.42324306,\n        3.35831327,  3.29323919,  3.22802081,  3.16265815,  3.09715121,\n        3.03149997,  2.96570444,  2.89976463,  2.83368053,  2.76745214,\n        2.70107946,  2.63456249,  2.56790123,  2.50109569,  2.43414586,\n        2.36705174,  2.29981333,  2.23243063,  2.16490364,  2.09723237,\n        2.0294168 ,  1.96145695,  1.89335281,  1.82510438,  1.75671167,\n        1.68817466,  1.61949337,  1.55066778,  1.48169791,  1.41258375,\n        1.34332531,  1.27392257,  1.20437555,  1.13468423,  1.06484863,\n        0.99486874,  0.92474456,  0.8544761 ,  0.78406334,  0.7135063 ,\n        0.64280497,  0.57195935,  0.50096944,  0.42983524,  0.35855675,\n        0.28713398,  0.21556692,  0.14385557,  0.07199993,  0.        ])"
     ]
    }
   ],
   "source": [
    "x3n=np.linspace(-3,3,1000)\n",
    "y3n=f3(x3n)\n",
    "sp.var(\"x\")\n",
    "def df3(x):\n",
    "    return -2*x/(sp.sqrt(18-2*x**2))-2\n",
    "\n",
    "\n",
    "dy3n=df3(x3n)\n",
    "\n",
    "def ddf3(x):\n",
    "    return -(sp.sqrt(2))*((x**2/(9-x**2))+1)/(sp.sqrt(9-x**2))\n",
    "            \n",
    "ddy3n=ddf3(x3n)\n",
    "\n",
    "\n",
    "plt.figure()\n",
    "plt.plot(x3n,y3n,\"r\") #Graficar la funcion original\n",
    "plt.plot(x3n,dy3n,\"g\") #Graficar la primera derivada\n",
    "plt.plot(x3n,ddy3n,\"b\") #Graficar la segunda derivada\n",
    "plt.plot(sp.solve(df3,x)[0],f3(sp.solve(df3,x)[0]),\"or\") #Graficar el punto crítico\n",
    "plt.grid()"
   ]
  },
  {
   "cell_type": "code",
   "execution_count": null,
   "metadata": {},
   "outputs": [],
   "source": []
  },
  {
   "cell_type": "markdown",
   "metadata": {},
   "source": [
    "$f(x)=\\frac{1}{4}x^4+\\frac{1}{3}x^3-x^2$ en el intervalo $[-3,1.7]$"
   ]
  },
  {
   "cell_type": "code",
   "execution_count": 42,
   "metadata": {},
   "outputs": [
    {
     "data": {
      "text/latex": [
       "$\\displaystyle 1.0 x^{3} + 1.0 x^{2} - 2 x$"
      ],
      "text/plain": [
       "1.0*x**3 + 1.0*x**2 - 2*x"
      ]
     },
     "execution_count": 42,
     "metadata": {},
     "output_type": "execute_result"
    }
   ],
   "source": [
    "sp.var(\"x\")\n",
    "#Función Original\n",
    "def f4(x):\n",
    "    return (1/4)*x**4+(1/3)*x**3-x**2\n",
    "#Primera Derivada\n",
    "df4=sp.diff(f4(x),x)\n",
    "df4"
   ]
  },
  {
   "cell_type": "code",
   "execution_count": 43,
   "metadata": {},
   "outputs": [
    {
     "data": {
      "text/latex": [
       "$\\displaystyle 3.0 x^{2} + 2.0 x - 2$"
      ],
      "text/plain": [
       "3.0*x**2 + 2.0*x - 2"
      ]
     },
     "execution_count": 43,
     "metadata": {},
     "output_type": "execute_result"
    }
   ],
   "source": [
    "#Segunda Derivada\n",
    "df4=sp.diff(f4(x),x,2)\n",
    "df4"
   ]
  },
  {
   "cell_type": "code",
   "execution_count": 45,
   "metadata": {},
   "outputs": [
    {
     "data": {
      "text/latex": [
       "$\\displaystyle 0.548583770354863$"
      ],
      "text/plain": [
       "0.548583770354863"
      ]
     },
     "execution_count": 45,
     "metadata": {},
     "output_type": "execute_result"
    }
   ],
   "source": [
    "sp.solve(df4,x)[1]"
   ]
  },
  {
   "cell_type": "code",
   "execution_count": 46,
   "metadata": {},
   "outputs": [
    {
     "name": "stderr",
     "output_type": "stream",
     "text": [
      "C:\\Users\\Maru\\anaconda3\\lib\\site-packages\\sympy\\solvers\\solvers.py:849: SymPyDeprecationWarning: \n",
      "\n",
      "The string fallback in sympify() is deprecated.\n",
      "\n",
      "To explicitly convert the string form of an object, use\n",
      "sympify(str(obj)). To add define sympify behavior on custom\n",
      "objects, use sympy.core.sympify.converter or define obj._sympy_\n",
      "(see the sympify() docstring).\n",
      "\n",
      "sympify() performed the string fallback resulting in the following string:\n",
      "\n",
      "'<function df4 at 0x000001C7A416E160>'\n",
      "\n",
      "See https://docs.sympy.org/latest/explanation/active-deprecations.html#deprecated-sympify-string-fallback\n",
      "for details.\n",
      "\n",
      "This has been deprecated since SymPy version 1.6. It\n",
      "will be removed in a future version of SymPy.\n",
      "\n",
      "  return list(map(sympify, w if iterable(w) else [w]))\n"
     ]
    },
    {
     "ename": "SympifyError",
     "evalue": "Sympify of expression 'could not parse '<function df4 at 0x000001C7A416E160>'' failed, because of exception being raised:\nSyntaxError: invalid syntax (<string>, line 1)",
     "output_type": "error",
     "traceback": [
      "\u001b[1;31m---------------------------------------------------------------------------\u001b[0m",
      "\u001b[1;31mValueError\u001b[0m                                Traceback (most recent call last)",
      "\u001b[1;31mValueError\u001b[0m: Error from parse_expr with transformed code: \"<Symbol ('function' )Symbol ('df4' )Symbol ('at' )Integer (0x000001C7A416E160 )>\"",
      "\nThe above exception was the direct cause of the following exception:\n",
      "\u001b[1;31mSyntaxError\u001b[0m                               Traceback (most recent call last)",
      "\u001b[1;32m~\\anaconda3\\lib\\site-packages\\sympy\\core\\sympify.py\u001b[0m in \u001b[0;36msympify\u001b[1;34m(a, locals, convert_xor, strict, rational, evaluate)\u001b[0m\n\u001b[0;32m    494\u001b[0m         \u001b[0ma\u001b[0m \u001b[1;33m=\u001b[0m \u001b[0ma\u001b[0m\u001b[1;33m.\u001b[0m\u001b[0mreplace\u001b[0m\u001b[1;33m(\u001b[0m\u001b[1;34m'\\n'\u001b[0m\u001b[1;33m,\u001b[0m \u001b[1;34m''\u001b[0m\u001b[1;33m)\u001b[0m\u001b[1;33m\u001b[0m\u001b[1;33m\u001b[0m\u001b[0m\n\u001b[1;32m--> 495\u001b[1;33m         \u001b[0mexpr\u001b[0m \u001b[1;33m=\u001b[0m \u001b[0mparse_expr\u001b[0m\u001b[1;33m(\u001b[0m\u001b[0ma\u001b[0m\u001b[1;33m,\u001b[0m \u001b[0mlocal_dict\u001b[0m\u001b[1;33m=\u001b[0m\u001b[0mlocals\u001b[0m\u001b[1;33m,\u001b[0m \u001b[0mtransformations\u001b[0m\u001b[1;33m=\u001b[0m\u001b[0mtransformations\u001b[0m\u001b[1;33m,\u001b[0m \u001b[0mevaluate\u001b[0m\u001b[1;33m=\u001b[0m\u001b[0mevaluate\u001b[0m\u001b[1;33m)\u001b[0m\u001b[1;33m\u001b[0m\u001b[1;33m\u001b[0m\u001b[0m\n\u001b[0m\u001b[0;32m    496\u001b[0m     \u001b[1;32mexcept\u001b[0m \u001b[1;33m(\u001b[0m\u001b[0mTokenError\u001b[0m\u001b[1;33m,\u001b[0m \u001b[0mSyntaxError\u001b[0m\u001b[1;33m)\u001b[0m \u001b[1;32mas\u001b[0m \u001b[0mexc\u001b[0m\u001b[1;33m:\u001b[0m\u001b[1;33m\u001b[0m\u001b[1;33m\u001b[0m\u001b[0m\n",
      "\u001b[1;32m~\\anaconda3\\lib\\site-packages\\sympy\\parsing\\sympy_parser.py\u001b[0m in \u001b[0;36mparse_expr\u001b[1;34m(s, local_dict, transformations, global_dict, evaluate)\u001b[0m\n\u001b[0;32m   1104\u001b[0m             \u001b[0mlocal_dict\u001b[0m\u001b[1;33m[\u001b[0m\u001b[0mi\u001b[0m\u001b[1;33m]\u001b[0m \u001b[1;33m=\u001b[0m \u001b[0mnull\u001b[0m\u001b[1;33m\u001b[0m\u001b[1;33m\u001b[0m\u001b[0m\n\u001b[1;32m-> 1105\u001b[1;33m         \u001b[1;32mraise\u001b[0m \u001b[0me\u001b[0m \u001b[1;32mfrom\u001b[0m \u001b[0mValueError\u001b[0m\u001b[1;33m(\u001b[0m\u001b[1;34mf\"Error from parse_expr with transformed code: {code!r}\"\u001b[0m\u001b[1;33m)\u001b[0m\u001b[1;33m\u001b[0m\u001b[1;33m\u001b[0m\u001b[0m\n\u001b[0m\u001b[0;32m   1106\u001b[0m \u001b[1;33m\u001b[0m\u001b[0m\n",
      "\u001b[1;32m~\\anaconda3\\lib\\site-packages\\sympy\\parsing\\sympy_parser.py\u001b[0m in \u001b[0;36mparse_expr\u001b[1;34m(s, local_dict, transformations, global_dict, evaluate)\u001b[0m\n\u001b[0;32m   1095\u001b[0m     \u001b[1;32mtry\u001b[0m\u001b[1;33m:\u001b[0m\u001b[1;33m\u001b[0m\u001b[1;33m\u001b[0m\u001b[0m\n\u001b[1;32m-> 1096\u001b[1;33m         \u001b[0mrv\u001b[0m \u001b[1;33m=\u001b[0m \u001b[0meval_expr\u001b[0m\u001b[1;33m(\u001b[0m\u001b[0mcode\u001b[0m\u001b[1;33m,\u001b[0m \u001b[0mlocal_dict\u001b[0m\u001b[1;33m,\u001b[0m \u001b[0mglobal_dict\u001b[0m\u001b[1;33m)\u001b[0m\u001b[1;33m\u001b[0m\u001b[1;33m\u001b[0m\u001b[0m\n\u001b[0m\u001b[0;32m   1097\u001b[0m         \u001b[1;31m# restore neutral definitions for names\u001b[0m\u001b[1;33m\u001b[0m\u001b[1;33m\u001b[0m\u001b[0m\n",
      "\u001b[1;32m~\\anaconda3\\lib\\site-packages\\sympy\\parsing\\sympy_parser.py\u001b[0m in \u001b[0;36meval_expr\u001b[1;34m(code, local_dict, global_dict)\u001b[0m\n\u001b[0;32m    914\u001b[0m     \"\"\"\n\u001b[1;32m--> 915\u001b[1;33m     expr = eval(\n\u001b[0m\u001b[0;32m    916\u001b[0m         code, global_dict, local_dict)  # take local objects in preference\n",
      "\u001b[1;31mSyntaxError\u001b[0m: invalid syntax (<string>, line 1)",
      "\nDuring handling of the above exception, another exception occurred:\n",
      "\u001b[1;31mSympifyError\u001b[0m                              Traceback (most recent call last)",
      "\u001b[1;32m~\\AppData\\Local\\Temp\\ipykernel_22444\\1789384769.py\u001b[0m in \u001b[0;36m<module>\u001b[1;34m\u001b[0m\n\u001b[0;32m     18\u001b[0m \u001b[0mplt\u001b[0m\u001b[1;33m.\u001b[0m\u001b[0mplot\u001b[0m\u001b[1;33m(\u001b[0m\u001b[0mx4n\u001b[0m\u001b[1;33m,\u001b[0m\u001b[0mdy4n\u001b[0m\u001b[1;33m,\u001b[0m\u001b[1;34m\"g\"\u001b[0m\u001b[1;33m)\u001b[0m \u001b[1;31m#Graficar la primera derivada\u001b[0m\u001b[1;33m\u001b[0m\u001b[1;33m\u001b[0m\u001b[0m\n\u001b[0;32m     19\u001b[0m \u001b[0mplt\u001b[0m\u001b[1;33m.\u001b[0m\u001b[0mplot\u001b[0m\u001b[1;33m(\u001b[0m\u001b[0mx4n\u001b[0m\u001b[1;33m,\u001b[0m\u001b[0mddy4n\u001b[0m\u001b[1;33m,\u001b[0m\u001b[1;34m\"b\"\u001b[0m\u001b[1;33m)\u001b[0m \u001b[1;31m#Graficar la segunda derivada\u001b[0m\u001b[1;33m\u001b[0m\u001b[1;33m\u001b[0m\u001b[0m\n\u001b[1;32m---> 20\u001b[1;33m \u001b[0mplt\u001b[0m\u001b[1;33m.\u001b[0m\u001b[0mplot\u001b[0m\u001b[1;33m(\u001b[0m\u001b[0msp\u001b[0m\u001b[1;33m.\u001b[0m\u001b[0msolve\u001b[0m\u001b[1;33m(\u001b[0m\u001b[0mdf4\u001b[0m\u001b[1;33m,\u001b[0m\u001b[0mx\u001b[0m\u001b[1;33m)\u001b[0m\u001b[1;33m[\u001b[0m\u001b[1;36m1\u001b[0m\u001b[1;33m]\u001b[0m\u001b[1;33m,\u001b[0m\u001b[0mf4\u001b[0m\u001b[1;33m(\u001b[0m\u001b[0msp\u001b[0m\u001b[1;33m.\u001b[0m\u001b[0msolve\u001b[0m\u001b[1;33m(\u001b[0m\u001b[0mdf4\u001b[0m\u001b[1;33m,\u001b[0m\u001b[0mx\u001b[0m\u001b[1;33m)\u001b[0m\u001b[1;33m[\u001b[0m\u001b[1;36m1\u001b[0m\u001b[1;33m]\u001b[0m\u001b[1;33m)\u001b[0m\u001b[1;33m,\u001b[0m\u001b[1;34m\"or\"\u001b[0m\u001b[1;33m)\u001b[0m \u001b[1;31m#Graficar el punto crítico\u001b[0m\u001b[1;33m\u001b[0m\u001b[1;33m\u001b[0m\u001b[0m\n\u001b[0m\u001b[0;32m     21\u001b[0m \u001b[0mplt\u001b[0m\u001b[1;33m.\u001b[0m\u001b[0mgrid\u001b[0m\u001b[1;33m(\u001b[0m\u001b[1;33m)\u001b[0m\u001b[1;33m\u001b[0m\u001b[1;33m\u001b[0m\u001b[0m\n",
      "\u001b[1;32m~\\anaconda3\\lib\\site-packages\\sympy\\solvers\\solvers.py\u001b[0m in \u001b[0;36msolve\u001b[1;34m(f, *symbols, **flags)\u001b[0m\n\u001b[0;32m    856\u001b[0m                        )\n\u001b[0;32m    857\u001b[0m                       )\n\u001b[1;32m--> 858\u001b[1;33m     \u001b[0mf\u001b[0m\u001b[1;33m,\u001b[0m \u001b[0msymbols\u001b[0m \u001b[1;33m=\u001b[0m \u001b[1;33m(\u001b[0m\u001b[0m_sympified_list\u001b[0m\u001b[1;33m(\u001b[0m\u001b[0mw\u001b[0m\u001b[1;33m)\u001b[0m \u001b[1;32mfor\u001b[0m \u001b[0mw\u001b[0m \u001b[1;32min\u001b[0m \u001b[1;33m[\u001b[0m\u001b[0mf\u001b[0m\u001b[1;33m,\u001b[0m \u001b[0msymbols\u001b[0m\u001b[1;33m]\u001b[0m\u001b[1;33m)\u001b[0m\u001b[1;33m\u001b[0m\u001b[1;33m\u001b[0m\u001b[0m\n\u001b[0m\u001b[0;32m    859\u001b[0m     \u001b[1;32mif\u001b[0m \u001b[0misinstance\u001b[0m\u001b[1;33m(\u001b[0m\u001b[0mf\u001b[0m\u001b[1;33m,\u001b[0m \u001b[0mlist\u001b[0m\u001b[1;33m)\u001b[0m\u001b[1;33m:\u001b[0m\u001b[1;33m\u001b[0m\u001b[1;33m\u001b[0m\u001b[0m\n\u001b[0;32m    860\u001b[0m         \u001b[0mf\u001b[0m \u001b[1;33m=\u001b[0m \u001b[1;33m[\u001b[0m\u001b[0ms\u001b[0m \u001b[1;32mfor\u001b[0m \u001b[0ms\u001b[0m \u001b[1;32min\u001b[0m \u001b[0mf\u001b[0m \u001b[1;32mif\u001b[0m \u001b[0ms\u001b[0m \u001b[1;32mis\u001b[0m \u001b[1;32mnot\u001b[0m \u001b[0mS\u001b[0m\u001b[1;33m.\u001b[0m\u001b[0mtrue\u001b[0m \u001b[1;32mand\u001b[0m \u001b[0ms\u001b[0m \u001b[1;32mis\u001b[0m \u001b[1;32mnot\u001b[0m \u001b[1;32mTrue\u001b[0m\u001b[1;33m]\u001b[0m\u001b[1;33m\u001b[0m\u001b[1;33m\u001b[0m\u001b[0m\n",
      "\u001b[1;32m~\\anaconda3\\lib\\site-packages\\sympy\\solvers\\solvers.py\u001b[0m in \u001b[0;36m<genexpr>\u001b[1;34m(.0)\u001b[0m\n\u001b[0;32m    856\u001b[0m                        )\n\u001b[0;32m    857\u001b[0m                       )\n\u001b[1;32m--> 858\u001b[1;33m     \u001b[0mf\u001b[0m\u001b[1;33m,\u001b[0m \u001b[0msymbols\u001b[0m \u001b[1;33m=\u001b[0m \u001b[1;33m(\u001b[0m\u001b[0m_sympified_list\u001b[0m\u001b[1;33m(\u001b[0m\u001b[0mw\u001b[0m\u001b[1;33m)\u001b[0m \u001b[1;32mfor\u001b[0m \u001b[0mw\u001b[0m \u001b[1;32min\u001b[0m \u001b[1;33m[\u001b[0m\u001b[0mf\u001b[0m\u001b[1;33m,\u001b[0m \u001b[0msymbols\u001b[0m\u001b[1;33m]\u001b[0m\u001b[1;33m)\u001b[0m\u001b[1;33m\u001b[0m\u001b[1;33m\u001b[0m\u001b[0m\n\u001b[0m\u001b[0;32m    859\u001b[0m     \u001b[1;32mif\u001b[0m \u001b[0misinstance\u001b[0m\u001b[1;33m(\u001b[0m\u001b[0mf\u001b[0m\u001b[1;33m,\u001b[0m \u001b[0mlist\u001b[0m\u001b[1;33m)\u001b[0m\u001b[1;33m:\u001b[0m\u001b[1;33m\u001b[0m\u001b[1;33m\u001b[0m\u001b[0m\n\u001b[0;32m    860\u001b[0m         \u001b[0mf\u001b[0m \u001b[1;33m=\u001b[0m \u001b[1;33m[\u001b[0m\u001b[0ms\u001b[0m \u001b[1;32mfor\u001b[0m \u001b[0ms\u001b[0m \u001b[1;32min\u001b[0m \u001b[0mf\u001b[0m \u001b[1;32mif\u001b[0m \u001b[0ms\u001b[0m \u001b[1;32mis\u001b[0m \u001b[1;32mnot\u001b[0m \u001b[0mS\u001b[0m\u001b[1;33m.\u001b[0m\u001b[0mtrue\u001b[0m \u001b[1;32mand\u001b[0m \u001b[0ms\u001b[0m \u001b[1;32mis\u001b[0m \u001b[1;32mnot\u001b[0m \u001b[1;32mTrue\u001b[0m\u001b[1;33m]\u001b[0m\u001b[1;33m\u001b[0m\u001b[1;33m\u001b[0m\u001b[0m\n",
      "\u001b[1;32m~\\anaconda3\\lib\\site-packages\\sympy\\solvers\\solvers.py\u001b[0m in \u001b[0;36m_sympified_list\u001b[1;34m(w)\u001b[0m\n\u001b[0;32m    847\u001b[0m \u001b[1;33m\u001b[0m\u001b[0m\n\u001b[0;32m    848\u001b[0m     \u001b[1;32mdef\u001b[0m \u001b[0m_sympified_list\u001b[0m\u001b[1;33m(\u001b[0m\u001b[0mw\u001b[0m\u001b[1;33m)\u001b[0m\u001b[1;33m:\u001b[0m\u001b[1;33m\u001b[0m\u001b[1;33m\u001b[0m\u001b[0m\n\u001b[1;32m--> 849\u001b[1;33m         \u001b[1;32mreturn\u001b[0m \u001b[0mlist\u001b[0m\u001b[1;33m(\u001b[0m\u001b[0mmap\u001b[0m\u001b[1;33m(\u001b[0m\u001b[0msympify\u001b[0m\u001b[1;33m,\u001b[0m \u001b[0mw\u001b[0m \u001b[1;32mif\u001b[0m \u001b[0miterable\u001b[0m\u001b[1;33m(\u001b[0m\u001b[0mw\u001b[0m\u001b[1;33m)\u001b[0m \u001b[1;32melse\u001b[0m \u001b[1;33m[\u001b[0m\u001b[0mw\u001b[0m\u001b[1;33m]\u001b[0m\u001b[1;33m)\u001b[0m\u001b[1;33m)\u001b[0m\u001b[1;33m\u001b[0m\u001b[1;33m\u001b[0m\u001b[0m\n\u001b[0m\u001b[0;32m    850\u001b[0m     \u001b[0mbare_f\u001b[0m \u001b[1;33m=\u001b[0m \u001b[1;32mnot\u001b[0m \u001b[0miterable\u001b[0m\u001b[1;33m(\u001b[0m\u001b[0mf\u001b[0m\u001b[1;33m)\u001b[0m\u001b[1;33m\u001b[0m\u001b[1;33m\u001b[0m\u001b[0m\n\u001b[0;32m    851\u001b[0m     ordered_symbols = (symbols and\n",
      "\u001b[1;32m~\\anaconda3\\lib\\site-packages\\sympy\\core\\sympify.py\u001b[0m in \u001b[0;36msympify\u001b[1;34m(a, locals, convert_xor, strict, rational, evaluate)\u001b[0m\n\u001b[0;32m    495\u001b[0m         \u001b[0mexpr\u001b[0m \u001b[1;33m=\u001b[0m \u001b[0mparse_expr\u001b[0m\u001b[1;33m(\u001b[0m\u001b[0ma\u001b[0m\u001b[1;33m,\u001b[0m \u001b[0mlocal_dict\u001b[0m\u001b[1;33m=\u001b[0m\u001b[0mlocals\u001b[0m\u001b[1;33m,\u001b[0m \u001b[0mtransformations\u001b[0m\u001b[1;33m=\u001b[0m\u001b[0mtransformations\u001b[0m\u001b[1;33m,\u001b[0m \u001b[0mevaluate\u001b[0m\u001b[1;33m=\u001b[0m\u001b[0mevaluate\u001b[0m\u001b[1;33m)\u001b[0m\u001b[1;33m\u001b[0m\u001b[1;33m\u001b[0m\u001b[0m\n\u001b[0;32m    496\u001b[0m     \u001b[1;32mexcept\u001b[0m \u001b[1;33m(\u001b[0m\u001b[0mTokenError\u001b[0m\u001b[1;33m,\u001b[0m \u001b[0mSyntaxError\u001b[0m\u001b[1;33m)\u001b[0m \u001b[1;32mas\u001b[0m \u001b[0mexc\u001b[0m\u001b[1;33m:\u001b[0m\u001b[1;33m\u001b[0m\u001b[1;33m\u001b[0m\u001b[0m\n\u001b[1;32m--> 497\u001b[1;33m         \u001b[1;32mraise\u001b[0m \u001b[0mSympifyError\u001b[0m\u001b[1;33m(\u001b[0m\u001b[1;34m'could not parse %r'\u001b[0m \u001b[1;33m%\u001b[0m \u001b[0ma\u001b[0m\u001b[1;33m,\u001b[0m \u001b[0mexc\u001b[0m\u001b[1;33m)\u001b[0m\u001b[1;33m\u001b[0m\u001b[1;33m\u001b[0m\u001b[0m\n\u001b[0m\u001b[0;32m    498\u001b[0m \u001b[1;33m\u001b[0m\u001b[0m\n\u001b[0;32m    499\u001b[0m     \u001b[1;32mreturn\u001b[0m \u001b[0mexpr\u001b[0m\u001b[1;33m\u001b[0m\u001b[1;33m\u001b[0m\u001b[0m\n",
      "\u001b[1;31mSympifyError\u001b[0m: Sympify of expression 'could not parse '<function df4 at 0x000001C7A416E160>'' failed, because of exception being raised:\nSyntaxError: invalid syntax (<string>, line 1)"
     ]
    },
    {
     "data": {
      "image/png": "[encoded data removed]",
      "text/plain": [
       "<Figure size 640x480 with 1 Axes>"
      ]
     },
     "metadata": {},
     "output_type": "display_data"
    }
   ],
   "source": [
    "x4n=np.linspace(-3,1.7,1000)\n",
    "y4n=f4(x4n)\n",
    "sp.var(\"x\")\n",
    "def df4(x):\n",
    "    return x**3+x**2-2*x\n",
    "\n",
    "\n",
    "dy4n=df4(x4n)\n",
    "\n",
    "def ddf4(x):\n",
    "    return 3*x**2+2*x-2\n",
    "            \n",
    "ddy4n=ddf4(x4n)\n",
    "\n",
    "\n",
    "plt.figure()\n",
    "plt.plot(x4n,y4n,\"r\") #Graficar la funcion original\n",
    "plt.plot(x4n,dy4n,\"g\") #Graficar la primera derivada\n",
    "plt.plot(x4n,ddy4n,\"b\") #Graficar la segunda derivada\n",
    "plt.plot(sp.solve(df4,x)[1],f4(sp.solve(df4,x)[1]),\"or\") #Graficar el punto crítico\n",
    "plt.grid()"
   ]
  },
  {
   "cell_type": "markdown",
   "metadata": {},
   "source": [
    "---\n",
    "**Resuelva los siguientes problemas usando la librería `SymPy`. Use celdas en `Markdown` para explicar su procedimiento.**"
   ]
  },
  {
   "cell_type": "markdown",
   "metadata": {},
   "source": [
    "El perímetro de un triángulo isósceles es de $10 cm$. ¿Cuánto deben medir sus lados para que el volumen del cuerpo generado por la rotación del triángulo en torno a su base sea el mayor posible? (Volumen de un cono $= \\frac{1}{3}\\pi r^2 h$, donde $r$ es el radio de la base y $h$ la altura del cono)."
   ]
  },
  {
   "cell_type": "code",
   "execution_count": null,
   "metadata": {},
   "outputs": [],
   "source": [
    "#Optimizar la formula del volumen del cono, despejar la altura"
   ]
  },
  {
   "cell_type": "code",
   "execution_count": null,
   "metadata": {},
   "outputs": [],
   "source": []
  },
  {
   "cell_type": "code",
   "execution_count": null,
   "metadata": {},
   "outputs": [],
   "source": []
  },
  {
   "cell_type": "code",
   "execution_count": null,
   "metadata": {},
   "outputs": [],
   "source": []
  },
  {
   "cell_type": "code",
   "execution_count": null,
   "metadata": {},
   "outputs": [],
   "source": []
  },
  {
   "cell_type": "markdown",
   "metadata": {},
   "source": [
    "Disponemos de una barra de aluminio de 6 metros para construir una portería de fútbol. Si queremos que el área de la portería sea máxima, ¿cuánto deben medir los postes y el travesaño?"
   ]
  },
  {
   "cell_type": "code",
   "execution_count": null,
   "metadata": {},
   "outputs": [],
   "source": []
  },
  {
   "cell_type": "code",
   "execution_count": null,
   "metadata": {},
   "outputs": [],
   "source": []
  },
  {
   "cell_type": "code",
   "execution_count": null,
   "metadata": {},
   "outputs": [],
   "source": []
  },
  {
   "cell_type": "code",
   "execution_count": null,
   "metadata": {},
   "outputs": [],
   "source": []
  },
  {
   "cell_type": "code",
   "execution_count": null,
   "metadata": {},
   "outputs": [],
   "source": []
  }
 ],
 "metadata": {
  "kernelspec": {
   "display_name": "Python 3 (ipykernel)",
   "language": "python",
   "name": "python3"
  },
  "language_info": {
   "codemirror_mode": {
    "name": "ipython",
    "version": 3
   },
   "file_extension": ".py",
   "mimetype": "text/x-python",
   "name": "python",
   "nbconvert_exporter": "python",
   "pygments_lexer": "ipython3",
   "version": "3.9.13"
  }
 },
 "nbformat": 4,
 "nbformat_minor": 2
}
